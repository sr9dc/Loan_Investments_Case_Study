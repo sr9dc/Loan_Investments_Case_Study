{
 "cells": [
  {
   "cell_type": "markdown",
   "metadata": {
    "id": "I8lc26kEszcD"
   },
   "source": [
    "# Phase 3 - Modeling\n",
    "\n",
    "**Note 1: the following starting code only generates a single random train/test split when default_seed is used. You need to modify the code to generate 100 independent train/test splits with different seeds and report the average results on those independent splits along with standard deviation.**\n",
    "\n",
    "**Note 2: You are completely free to use your own implementation.**"
   ]
  },
  {
   "cell_type": "code",
   "execution_count": 1,
   "metadata": {
    "id": "q_2mrXzKszcF",
    "scrolled": true
   },
   "outputs": [],
   "source": [
    "# Load general utilities\n",
    "# ----------------------\n",
    "import pandas as pd\n",
    "import matplotlib.pyplot as plt\n",
    "import matplotlib.axes as ax\n",
    "import datetime\n",
    "import numpy as np\n",
    "import pickle\n",
    "import time\n",
    "import seaborn as sns\n",
    "\n",
    "# Load sklearn utilities\n",
    "# ----------------------\n",
    "from sklearn.model_selection import train_test_split\n",
    "from sklearn import preprocessing\n",
    "from sklearn.model_selection import GridSearchCV\n",
    "from sklearn.metrics import accuracy_score, recall_score, classification_report, roc_auc_score, roc_curve, brier_score_loss, mean_squared_error, r2_score\n",
    "from sklearn.calibration import calibration_curve\n",
    "\n",
    "# Load classifiers\n",
    "# ----------------\n",
    "from sklearn.linear_model import LogisticRegression\n",
    "from sklearn.linear_model import RidgeClassifier\n",
    "from sklearn.tree import DecisionTreeClassifier\n",
    "from sklearn.ensemble import RandomForestClassifier\n",
    "from sklearn.naive_bayes import GaussianNB\n",
    "from sklearn.neural_network import MLPClassifier\n",
    "from sklearn.ensemble import GradientBoostingClassifier\n",
    "from sklearn.ensemble import BaggingClassifier\n",
    "\n",
    "# Other Packages\n",
    "# --------------\n",
    "from scipy.stats import kendalltau\n",
    "from sklearn.neural_network import MLPRegressor\n",
    "from sklearn import linear_model\n",
    "from sklearn.ensemble import RandomForestRegressor\n",
    "from sklearn.cluster import KMeans\n",
    "from six import StringIO \n",
    "from IPython.display import Image  \n",
    "from sklearn.tree import export_graphviz\n",
    "from imblearn.over_sampling import SMOTE\n",
    "# from scipy.interpolate import spline\n",
    "\n",
    "# Load debugger, if required\n",
    "#import pixiedust\n",
    "pd.options.mode.chained_assignment = None #'warn'\n",
    "\n",
    "# suppress all warnings\n",
    "import warnings\n",
    "warnings.filterwarnings(\"ignore\")"
   ]
  },
  {
   "cell_type": "code",
   "execution_count": 2,
   "metadata": {
    "id": "1BiwKVbEszcH"
   },
   "outputs": [],
   "source": [
    "# Define a function that, given a CVGridSearch object, finds the\n",
    "# percentage difference between the best and worst scores\n",
    "def find_score_variation(cv_model):\n",
    "    all_scores = cv_model.cv_results_['mean_test_score']\n",
    "    return( np.abs((max(all_scores) - min(all_scores))) * 100 / max(all_scores) )\n",
    "\n",
    "    '''\n",
    "    which_min_score = np.argmin(all_scores)\n",
    "    \n",
    "    all_perc_diff = []\n",
    "    \n",
    "    try:\n",
    "        all_perc_diff.append( np.abs(all_scores[which_min_score - 1] - all_scores[which_min_score])*100 / min(all_scores) )\n",
    "    except:\n",
    "        pass\n",
    "    \n",
    "    try:\n",
    "        all_perc_diff.append( np.abs(all_scores[which_min_score + 1] - all_scores[which_min_score])*100 / min(all_scores) )\n",
    "    except:\n",
    "        pass\n",
    "    \n",
    "    return ( np.mean(all_perc_diff) )\n",
    "    '''\n",
    "\n",
    "# Define a function that checks, given a CVGridSearch object,\n",
    "# whether the optimal parameters lie on the edge of the search\n",
    "# grid\n",
    "def find_opt_params_on_edge(cv_model):\n",
    "    out = False\n",
    "    \n",
    "    for i in cv_model.param_grid:\n",
    "        if cv_model.best_params_[i] in [ cv_model.param_grid[i][0], cv_model.param_grid[i][-1] ]:\n",
    "            out = True\n",
    "            break\n",
    "            \n",
    "    return out"
   ]
  },
  {
   "cell_type": "markdown",
   "metadata": {
    "id": "a3xqjgQ7szcH"
   },
   "source": [
    "## Define a default random seed and an output file"
   ]
  },
  {
   "cell_type": "code",
   "execution_count": 3,
   "metadata": {
    "id": "jsIq00hFszcI"
   },
   "outputs": [],
   "source": [
    "default_seed = 1\n",
    "output_file = \"output_sample\""
   ]
  },
  {
   "cell_type": "code",
   "execution_count": 4,
   "metadata": {
    "id": "lzdvw8RHszcI"
   },
   "outputs": [],
   "source": [
    "# Create a function to print a line to our output file\n",
    "def dump_to_output(key, value):\n",
    "    with open(output_file, \"a\") as f:\n",
    "        f.write(\",\".join([str(default_seed), key, str(value)]) + \"\\n\")"
   ]
  },
  {
   "cell_type": "markdown",
   "metadata": {
    "id": "dJe7-LTQszcI"
   },
   "source": [
    "## Load the data and engineer the features"
   ]
  },
  {
   "cell_type": "code",
   "execution_count": 5,
   "metadata": {
    "id": "oyxZ-GIsszcI"
   },
   "outputs": [],
   "source": [
    "# Read the data and features from the pickle file saved in CS-Phase 2\n",
    "data, discrete_features, continuous_features, ret_cols = pickle.load( open( \"clean_data.pickle\", \"rb\" ) )"
   ]
  },
  {
   "cell_type": "code",
   "execution_count": 6,
   "metadata": {
    "id": "TdIIcRJgszcJ"
   },
   "outputs": [],
   "source": [
    "## Create the outcome columns: True if loan_status is either Charged Off or Default, False otherwise\n",
    "data[\"outcome\"] = ((data['loan_status'] == 'Charged Off') | (data['loan_status'] == 'Default'))"
   ]
  },
  {
   "cell_type": "code",
   "execution_count": 7,
   "metadata": {
    "id": "djhAOzYYszcJ"
   },
   "outputs": [],
   "source": [
    "# Create a feature for the length of a person's credit history at the time the loan is issued\n",
    "data['cr_hist'] = (data.issue_d - data.earliest_cr_line) / np.timedelta64(1, 'M')\n",
    "continuous_features.append('cr_hist')"
   ]
  },
  {
   "cell_type": "code",
   "execution_count": 8,
   "metadata": {
    "id": "4B4F855vszcJ"
   },
   "outputs": [],
   "source": [
    "# Copy the data to save current state\n",
    "data_copy = data.copy()\n",
    "\n",
    "# Randomly assign each row to a training and test set. We do this now because we will be fitting a variety of models on various time periods, and we would like every period to use the *same* training/test split\n",
    "np.random.seed(default_seed)\n",
    "## create the train columns where the value is True if it is a train instance and False otherwise. Hint: use np.random.choice with 70% for training and 30% for testing\n",
    "indices = np.random.choice(range(len(data)), int(0.7*len(data)), replace=False)\n",
    "\n",
    "data['train'] = False\n",
    "data['train'].iloc[list(indices)] = True\n",
    "\n",
    "# the 'data' variable now refers to the split using the default_seed = 1"
   ]
  },
  {
   "cell_type": "code",
   "execution_count": 9,
   "metadata": {
    "id": "i-jil-sAszcK"
   },
   "outputs": [],
   "source": [
    "# Create a matrix of features and outcomes, with dummies. Record the names of the dummies for later use\n",
    "X_continuous = data[continuous_features].to_numpy()\n",
    "\n",
    "X_discrete = pd.get_dummies(data[discrete_features], dummy_na = True, prefix_sep = \"::\", drop_first = True)\n",
    "discrete_features_dummies = X_discrete.columns.tolist()\n",
    "X_discrete = X_discrete.values\n",
    "\n",
    "X = np.concatenate( (X_continuous, X_discrete), axis = 1 )\n",
    "y = data.outcome.to_numpy()\n",
    "\n",
    "train = data.train.to_numpy()"
   ]
  },
  {
   "cell_type": "markdown",
   "metadata": {
    "id": "eRL6nXx1-Tma"
   },
   "source": [
    "# Part 1 "
   ]
  },
  {
   "cell_type": "markdown",
   "metadata": {
    "id": "ULX2p6s6szcK"
   },
   "source": [
    "## Prepare functions to fit and evaluate models"
   ]
  },
  {
   "cell_type": "code",
   "execution_count": 10,
   "metadata": {
    "id": "A6ygITqwszcK"
   },
   "outputs": [],
   "source": [
    "def prepare_data(data_subset = np.array([True]*len(data)),\n",
    "                    n_samples_train = 30000,\n",
    "                    n_samples_test = 20000,\n",
    "                    feature_subset = None,\n",
    "                    date_range_train = (data.issue_d.min(), data.issue_d.max()),\n",
    "                    date_range_test = (data.issue_d.min(), data.issue_d.max()),\n",
    "                    random_state = default_seed):\n",
    "    '''\n",
    "    This function will prepare the data for classification or regression.\n",
    "    It expects the following parameters:\n",
    "      - data_subset: a numpy array with as many entries as rows in the\n",
    "                     dataset. Each entry should be True if that row\n",
    "                     should be used, or False if it should be ignored\n",
    "      - n_samples_train: the total number of samples to be used for training.\n",
    "                         Will trigger an error if this number is larger than\n",
    "                         the number of rows available after all filters have\n",
    "                         been applied\n",
    "      - n_samples_test: as above for testing\n",
    "      - feature_subect: A list containing the names of the features to be\n",
    "                        used in the model. In None, all features in X are\n",
    "                        used\n",
    "      - date_range_train: a tuple containing two dates. All rows with loans\n",
    "                          issued outside of these two dates will be ignored in\n",
    "                          training\n",
    "      - date_range_test: as above for testing\n",
    "      - random_state: the random seed to use when selecting a subset of rows\n",
    "      \n",
    "    Note that this function assumes the data has a \"Train\" column, and will\n",
    "    select all training rows from the rows with \"True\" in that column, and all\n",
    "    the testing rows from those with a \"False\" in that column.\n",
    "    \n",
    "    This function returns a dictionary with the following entries\n",
    "      - X_train: the matrix of training data\n",
    "      - y_train: the array of training labels\n",
    "      - train_set: a Boolean vector with as many entries as rows in the data\n",
    "                  that denotes the rows that were used in the train set\n",
    "      - X_test: the matrix of testing data\n",
    "      - y_test: the array of testing labels\n",
    "      - test_set: a Boolean vector with as many entries as rows in the data\n",
    "                  that denotes the rows that were used in the test set\n",
    "    '''\n",
    "    \n",
    "    np.random.seed(random_state)\n",
    "        \n",
    "    # Filter down the data to the required date range, and downsample\n",
    "    # as required\n",
    "    filter_train = ( train & (data.issue_d >= date_range_train[0]) &\n",
    "                            (data.issue_d <= date_range_train[1]) & data_subset ).values\n",
    "    filter_test = ( (train == False) & (data.issue_d >= date_range_test[0])\n",
    "                            & (data.issue_d <= date_range_test[1]) & data_subset ).values\n",
    "    \n",
    "    filter_train[ np.random.choice( np.where(filter_train)[0], size = filter_train.sum()\n",
    "                                                   - n_samples_train, replace = False ) ] = False\n",
    "    filter_test[ np.random.choice( np.where(filter_test)[0], size = filter_test.sum()\n",
    "                                                   - n_samples_test, replace = False ) ] = False\n",
    "    \n",
    "    test_grades = data['grade'][filter_test].values\n",
    "    test_data = data[filter_test].values\n",
    "    \n",
    "    # Prepare the training and test set\n",
    "    X_train = X[ filter_train , :]\n",
    "    X_test = X[ filter_test, :]\n",
    "    if feature_subset != None:\n",
    "        cols = [i for i, j in enumerate(continuous_features + discrete_features_dummies)\n",
    "                                                     if j.split(\"::\")[0] in feature_subset]\n",
    "        X_train = X_train[ : , cols ]\n",
    "        X_test = X_test[ : , cols ]\n",
    "        \n",
    "    y_train = y[ filter_train ]\n",
    "    y_test = y[ filter_test ]\n",
    "    \n",
    "    # Scale the variables\n",
    "    scaler = preprocessing.MinMaxScaler()\n",
    "\n",
    "    X_train = scaler.fit_transform(X_train)\n",
    "    X_test = scaler.transform(X_test)\n",
    "    \n",
    "    # return training and testing data\n",
    "    out = {'X_train':X_train, 'y_train':y_train, 'train_set':filter_train, \n",
    "           'X_test':X_test, 'y_test':y_test, 'test_set':filter_test\n",
    "           , 'test_grades': test_grades,'test_data' : test_data\n",
    "          }\n",
    "    \n",
    "    return out"
   ]
  },
  {
   "cell_type": "markdown",
   "metadata": {
    "id": "TQ4NVL44-Tma"
   },
   "source": [
    "## Prepare functions to create 100 independent test/train splits"
   ]
  },
  {
   "cell_type": "markdown",
   "metadata": {
    "id": "JxU9IBNF-Tmb"
   },
   "source": [
    "#### Code for Saving 100 Independent Test/Train Splits"
   ]
  },
  {
   "cell_type": "code",
   "execution_count": 11,
   "metadata": {
    "id": "g4ju83B8-Tmb"
   },
   "outputs": [],
   "source": [
    "def prepare_data_for_n_test_train_splits(data,\n",
    "                    discrete_features_dummies,\n",
    "                    X,\n",
    "                    y,\n",
    "                    train,\n",
    "                    n_samples_train = 30000,\n",
    "                    n_samples_test = 20000,\n",
    "                    feature_subset = None,\n",
    "                    random_state = default_seed):\n",
    "\n",
    "    data_subset = np.array([True]*len(data))\n",
    "    \n",
    "    date_range_train = (data.issue_d.min(), data.issue_d.max())\n",
    "    date_range_test = (data.issue_d.min(), data.issue_d.max())\n",
    "    \n",
    "    np.random.seed(random_state)\n",
    "        \n",
    "    # Filter down the data to the required date range, and downsample\n",
    "    # as required\n",
    "    filter_train = ( train & (data.issue_d >= date_range_train[0]) &\n",
    "                            (data.issue_d <= date_range_train[1]) & data_subset ).values\n",
    "    filter_test = ( (train == False) & (data.issue_d >= date_range_test[0])\n",
    "                            & (data.issue_d <= date_range_test[1]) & data_subset ).values\n",
    "    \n",
    "    filter_train[ np.random.choice( np.where(filter_train)[0], size = filter_train.sum()\n",
    "                                                   - n_samples_train, replace = False ) ] = False\n",
    "    filter_test[ np.random.choice( np.where(filter_test)[0], size = filter_test.sum()\n",
    "                                                   - n_samples_test, replace = False ) ] = False\n",
    "    \n",
    "    # Prepare the training and test set\n",
    "    X_train = X[ filter_train , :]\n",
    "    X_test = X[ filter_test, :]\n",
    "    if feature_subset != None:\n",
    "        cols = [i for i, j in enumerate(continuous_features + discrete_features_dummies)\n",
    "                                                     if j.split(\"::\")[0] in feature_subset]\n",
    "        X_train = X_train[ : , cols ]\n",
    "        X_test = X_test[ : , cols ]\n",
    "        \n",
    "    y_train = y[ filter_train ]\n",
    "    y_test = y[ filter_test ]\n",
    "    \n",
    "    # Scale the variables\n",
    "    scaler = preprocessing.MinMaxScaler()\n",
    "\n",
    "    X_train = scaler.fit_transform(X_train)\n",
    "    X_test = scaler.transform(X_test)\n",
    "    \n",
    "    # return training and testing data\n",
    "    out = {'X_train':X_train, 'y_train':y_train, 'train_set':filter_train, \n",
    "           'X_test':X_test, 'y_test':y_test, 'test_set':filter_test}\n",
    "    \n",
    "    return out"
   ]
  },
  {
   "cell_type": "code",
   "execution_count": 12,
   "metadata": {
    "id": "jYvQX_hu-Tmb"
   },
   "outputs": [],
   "source": [
    "# input copy of original data -> 'data_copy' (before default_seed random split)\n",
    "def n_train_test_splits(data, num_seeds, feature_subset): \n",
    "    out = []\n",
    "    seeds = [np.random.randint(1,10000) for i in range (0, num_seeds)]\n",
    "    \n",
    "    for seed in seeds:\n",
    "        np.random.seed(seed)\n",
    "        \n",
    "        # Store a copy of the input data\n",
    "        data_copy = data.copy()\n",
    "        \n",
    "        indices = np.random.choice(range(len(data_copy)), int(0.7*len(data_copy)), replace=False)\n",
    "\n",
    "        data_copy['train'] = False\n",
    "        data_copy['train'].iloc[list(indices)] = True\n",
    "                \n",
    "        # Create a matrix of features and outcomes, with dummies. Record the names of the dummies for later use\n",
    "        X_continuous = data_copy[continuous_features].to_numpy()\n",
    "\n",
    "        X_discrete = pd.get_dummies(data_copy[discrete_features], dummy_na = True, prefix_sep = \"::\", drop_first = True)\n",
    "        discrete_features_dummies = X_discrete.columns.tolist() \n",
    "        X_discrete = X_discrete.values\n",
    "\n",
    "        X = np.concatenate( (X_continuous, X_discrete), axis = 1 ) \n",
    "\n",
    "        y = data_copy.outcome.to_numpy() #\n",
    "\n",
    "\n",
    "        train = data_copy.train.to_numpy() #\n",
    "        \n",
    "        \n",
    "        out.append(prepare_data_for_n_test_train_splits(data_copy, discrete_features_dummies, X, y, train, feature_subset=feature_subset, random_state=seed))\n",
    "        \n",
    "    # Returns a list of data_dicts which can be accessed by indexing\n",
    "    return out\n",
    "      \n",
    "        "
   ]
  },
  {
   "cell_type": "code",
   "execution_count": 13,
   "metadata": {
    "id": "GLlvTJkO-Tmb"
   },
   "outputs": [],
   "source": [
    "## define your set of features to use in different models\n",
    "your_features = ['id', 'loan_amnt', \n",
    "                'funded_amnt', 'term', 'int_rate', 'grade', 'emp_length', 'home_ownership',\n",
    "                'annual_inc', 'verification_status', 'issue_d', 'loan_status', 'purpose','dti',\n",
    "                'delinq_2yrs', 'earliest_cr_line', 'open_acc', 'pub_rec', 'fico_range_high',\n",
    "                'fico_range_low', 'revol_bal', 'revol_util', 'total_pymnt', 'recoveries', 'last_pymnt_d']\n",
    "\n",
    "\n",
    "# prepare the train, test data for training models\n",
    "data_dict = prepare_data(feature_subset = your_features)\n",
    "\n",
    "all_features = pd.Series(continuous_features + discrete_features_dummies)\n",
    "idx = [i for i, j in enumerate(continuous_features + discrete_features_dummies)\n",
    "                                                     if j.split(\"::\")[0] in your_features]\n",
    "selected_features = all_features[idx]\n",
    "selected_features.reset_index(drop=True,inplace=True)"
   ]
  },
  {
   "cell_type": "code",
   "execution_count": null,
   "metadata": {
    "id": "G2jN6A5G-Tmb"
   },
   "outputs": [],
   "source": [
    "# Don't run this cell if you have 'hundred_train_test_splits.npy'\n",
    "hundred_train_test_splits = n_train_test_splits(data_copy, 100, feature_subset = your_features)\n",
    "np.save('hundred_train_test_splits.npy', hundred_train_test_splits)"
   ]
  },
  {
   "cell_type": "code",
   "execution_count": 14,
   "metadata": {
    "id": "GqZRg513-Tmb"
   },
   "outputs": [],
   "source": [
    "hundred_train_test_splits = np.load('hundred_train_test_splits.npy', allow_pickle='TRUE')"
   ]
  },
  {
   "cell_type": "code",
   "execution_count": 15,
   "metadata": {
    "id": "acRv6kMl-Tmb",
    "outputId": "99ada3d4-61d6-4c0d-bddb-2baa72c2b13d"
   },
   "outputs": [
    {
     "name": "stdout",
     "output_type": "stream",
     "text": [
      "100\n"
     ]
    }
   ],
   "source": [
    "compare1 = hundred_train_test_splits[0]['X_train']\n",
    "compare2 = hundred_train_test_splits[57]['X_train']\n",
    "\n",
    "print(len(hundred_train_test_splits))"
   ]
  },
  {
   "cell_type": "markdown",
   "metadata": {
    "id": "tPvRHXuGszcM"
   },
   "source": [
    "## 1. Train and Test different machine learning classification models\n",
    "\n",
    "The machine learning models listed in the following are just our suggestions. You are free to try any other models that you would like to experiment with."
   ]
  },
  {
   "cell_type": "code",
   "execution_count": 24,
   "metadata": {
    "id": "y3EeGs5dszcL"
   },
   "outputs": [],
   "source": [
    "def fit_classification(model, data_dict,\n",
    "                          cv_parameters = {},\n",
    "                          model_name = None,\n",
    "                          random_state = default_seed,\n",
    "                          output_to_file = True,\n",
    "                          print_to_screen = True):\n",
    "    '''\n",
    "    This function will fit a classification model to data and print various evaluation\n",
    "    measures. It expects the following parameters\n",
    "      - model: an sklearn model object\n",
    "      - data_dict: the dictionary containing both training and testing data;\n",
    "                   returned by the prepare_data function\n",
    "      - cv_parameters: a dictionary of parameters that should be optimized\n",
    "                       over using cross-validation. Specifically, each named\n",
    "                       entry in the dictionary should correspond to a parameter,\n",
    "                       and each element should be a list containing the values\n",
    "                       to optimize over\n",
    "      - model_name: the name of the model being fit, for printouts\n",
    "      - random_state: the random seed to use\n",
    "      - output_to_file: if the results will be saved to the output file\n",
    "      - print_to_screen: if the results will be printed on screen\n",
    "    \n",
    "    If the model provided does not have a predict_proba function, we will\n",
    "    simply print accuracy diagnostics and return.\n",
    "    \n",
    "    If the model provided does have a predict_proba function, we first\n",
    "    figure out the optimal threshold that maximizes the accuracy and\n",
    "    print out accuracy diagnostics. We then print an ROC curve, sensitivity/\n",
    "    specificity curve, and calibration curve.\n",
    "    \n",
    "    This function returns a dictionary with the following entries\n",
    "      - model: the best fitted model\n",
    "      - y_pred: predictions for the test set\n",
    "      - y_pred_probs: probability predictions for the test set, if the model\n",
    "                      supports them\n",
    "      - y_pred_score: prediction scores for the test set, if the model does not \n",
    "                      output probabilities.\n",
    "    '''\n",
    "        \n",
    "    np.random.seed(random_state)\n",
    "    \n",
    "    # --------------------------\n",
    "    #   Step 1 - Load the data\n",
    "    # --------------------------\n",
    "    X_train = data_dict['X_train']\n",
    "    y_train = data_dict['y_train']\n",
    "    \n",
    "    X_test = data_dict['X_test']\n",
    "    y_test = data_dict['y_test']\n",
    "    \n",
    "    filter_train = data_dict['train_set']    \n",
    "  \n",
    "    # --------------------------\n",
    "    #   Step 2 - Fit the model\n",
    "    # --------------------------\n",
    "\n",
    "    cv_model = GridSearchCV(model, cv_parameters)\n",
    "    \n",
    "    start_time = time.time()\n",
    "    cv_model.fit(X_train, y_train)\n",
    "    end_time = time.time()\n",
    "    \n",
    "    best_model = cv_model.best_estimator_\n",
    "    \n",
    "    if print_to_screen:\n",
    "\n",
    "        if model_name != None:\n",
    "            print(\"=========================================================\")\n",
    "            print(\"  Model: \" + model_name)\n",
    "            print(\"=========================================================\")\n",
    "\n",
    "        print(\"Fit time: \" + str(round(end_time - start_time, 2)) + \" seconds\")\n",
    "        print(\"Optimal parameters:\")\n",
    "        print(cv_model.best_params_)\n",
    "        print(\"\")\n",
    "    \n",
    "    # -------------------------------\n",
    "    #   Step 3 - Evaluate the model\n",
    "    # -------------------------------\n",
    "    \n",
    "    # If possible, make probability predictions\n",
    "    try:\n",
    "        y_pred_probs = best_model.predict_proba(X_test)[:,1]\n",
    "        fpr, tpr, thresholds = roc_curve(y_test, y_pred_probs)\n",
    "        \n",
    "        probs_predicted = True\n",
    "    except:\n",
    "        probs_predicted = False\n",
    "    \n",
    "    # Make predictions; if we were able to find probabilities, use\n",
    "    # the threshold that maximizes the accuracy in the training set.\n",
    "    # If not, just use the learner's predict function\n",
    "    if probs_predicted:\n",
    "        y_train_pred_probs = best_model.predict_proba(X_train)[:,1]\n",
    "        fpr_train, tpr_train, thresholds_train = roc_curve(y_train, y_train_pred_probs)\n",
    "        \n",
    "        true_pos_train = tpr_train*(y_train.sum())\n",
    "        true_neg_train = (1 - fpr_train) *(1-y_train).sum()\n",
    "        \n",
    "        best_threshold_index = np.argmax(true_pos_train + true_neg_train)\n",
    "        best_threshold = 1 if best_threshold_index == 0 else thresholds_train[ best_threshold_index ]\n",
    "        \n",
    "        if print_to_screen:\n",
    "            print(\"Accuracy-maximizing threshold was: \" + str(best_threshold))\n",
    "        \n",
    "        y_pred = (y_pred_probs > best_threshold)\n",
    "    else:\n",
    "        y_pred = best_model.predict(X_test)\n",
    "    \n",
    "    if print_to_screen:\n",
    "        print(\"Recall: \", recall_score(y_test, y_pred))\n",
    "        print(classification_report(y_test, y_pred, target_names =['No default', 'Default'], digits = 4))\n",
    "\n",
    "    if print_to_screen:\n",
    "        if probs_predicted:        \n",
    "            plt.figure(figsize = (13, 4.5))\n",
    "            plt.subplot(2, 2, 1)\n",
    "\n",
    "            plt.title(\"ROC Curve (AUC = %0.2f)\"% roc_auc_score(y_test, y_pred_probs))\n",
    "            plt.plot(fpr, tpr, 'b')\n",
    "            plt.plot([0,1],[0,1],'r--')\n",
    "            plt.xlim([0,1]); plt.ylim([0,1])\n",
    "            plt.ylabel('True Positive Rate')\n",
    "            plt.xlabel('False Positive Rate')\n",
    "\n",
    "            plt.subplot(2, 2, 3)\n",
    "\n",
    "            plt.plot(thresholds, tpr, 'b', label = 'Sensitivity')\n",
    "            plt.plot(thresholds, 1 -fpr, 'r', label = 'Specificity')\n",
    "            plt.legend(loc = 'lower right')\n",
    "            plt.xlim([0,1]); plt.ylim([0,1])\n",
    "            plt.xlabel('Threshold')\n",
    "\n",
    "            plt.subplot(2, 2, 2)\n",
    "\n",
    "            fp_0, mpv_0 = calibration_curve(y_test, y_pred_probs, n_bins = 10)\n",
    "            plt.plot([0,1], [0,1], 'k:', label='Perfectly calibrated')\n",
    "            plt.plot(mpv_0, fp_0, 's-')\n",
    "            plt.ylabel('Fraction of Positives')\n",
    "            plt.xlim([0,1]); plt.ylim([0,1])\n",
    "            plt.legend(loc ='upper left')\n",
    "            \n",
    "            plt.subplot(2, 2, 4)\n",
    "            plt.hist(y_pred_probs, range=(0, 1), bins=10, histtype=\"step\", lw=2)\n",
    "            plt.xlim([0,1]); plt.ylim([0,20000])\n",
    "            plt.xlabel('Mean Predicted Probability')\n",
    "            plt.ylabel('Count')\n",
    "            \n",
    "            #plt.tight_layout()\n",
    "            plt.show()\n",
    "        \n",
    "    # Additional Score Check\n",
    "    if probs_predicted:\n",
    "        y_train_score = y_train_pred_probs\n",
    "    else:\n",
    "        y_train_score = best_model.decision_function(X_train)\n",
    "        \n",
    "    tau, p_value = kendalltau(y_train_score, data.grade[filter_train])\n",
    "    if print_to_screen:\n",
    "        print(\"\")\n",
    "        print(\"Similarity to LC grade ranking: \", tau)\n",
    "    \n",
    "    if probs_predicted:\n",
    "        brier_score = brier_score_loss(y_test, y_pred_probs)\n",
    "        if print_to_screen:\n",
    "            print(\"Brier score:\", brier_score)\n",
    "    \n",
    "    # Return the model predictions, and the\n",
    "    # test set\n",
    "    # -------------------------------------\n",
    "    out = {'model':best_model, 'y_pred_labels':y_pred}\n",
    "    \n",
    "    if probs_predicted:\n",
    "        out.update({'y_pred_probs':y_pred_probs})\n",
    "    else:\n",
    "        y_pred_score = best_model.decision_function(X_test)\n",
    "        out.update({'y_pred_score':y_pred_score})\n",
    "        \n",
    "    # Output results to file\n",
    "    # ----------------------\n",
    "    if probs_predicted and output_to_file:\n",
    "        # Check whether any of the CV parameters are on the edge of\n",
    "        # the search space\n",
    "        opt_params_on_edge = find_opt_params_on_edge(cv_model)\n",
    "        dump_to_output(model_name + \"::search_on_edge\", opt_params_on_edge)\n",
    "        if print_to_screen:\n",
    "            print(\"Were parameters on edge? : \" + str(opt_params_on_edge))\n",
    "        \n",
    "        # Find out how different the scores are for the different values\n",
    "        # tested for by cross-validation. If they're not too different, then\n",
    "        # even if the parameters are off the edge of the search grid, we should\n",
    "        # be ok\n",
    "        score_variation = find_score_variation(cv_model)\n",
    "        dump_to_output(model_name + \"::score_variation\", score_variation)\n",
    "        if print_to_screen:\n",
    "            print(\"Score variations around CV search grid : \" + str(score_variation))\n",
    "        \n",
    "        # Print out all the scores\n",
    "        dump_to_output(model_name + \"::all_cv_scores\", str(cv_model.cv_results_['mean_test_score']))\n",
    "        if print_to_screen:\n",
    "            print( str(cv_model.cv_results_['mean_test_score']) )\n",
    "        \n",
    "        # Dump the AUC to file\n",
    "        dump_to_output(model_name + \"::roc_auc\", roc_auc_score(y_test, y_pred_probs) )\n",
    "        \n",
    "    return out"
   ]
  },
  {
   "cell_type": "markdown",
   "metadata": {
    "id": "iiFWUywh-Tmc"
   },
   "source": [
    "### Dummy Classifier (Baseline)"
   ]
  },
  {
   "cell_type": "code",
   "execution_count": null,
   "metadata": {
    "id": "GjT58S3n-Tmc",
    "outputId": "cea72e6a-9c81-43bd-edc6-94d3ff7d3961"
   },
   "outputs": [
    {
     "name": "stdout",
     "output_type": "stream",
     "text": [
      "=========================================================\n",
      "  Model: Dummy Classifier\n",
      "=========================================================\n",
      "Fit time: 0.04 seconds\n",
      "Optimal parameters:\n",
      "{}\n",
      "\n",
      "Accuracy-maximizing threshold was: 1\n",
      "Recall:  0.0\n",
      "              precision    recall  f1-score   support\n",
      "\n",
      "  No default     0.8061    1.0000    0.8926     16122\n",
      "     Default     0.0000    0.0000    0.0000      3878\n",
      "\n",
      "    accuracy                         0.8061     20000\n",
      "   macro avg     0.4031    0.5000    0.4463     20000\n",
      "weighted avg     0.6498    0.8061    0.7196     20000\n",
      "\n"
     ]
    },
    {
     "data": {
      "image/png": "[encoded data removed]",
      "text/plain": [
       "<Figure size 936x324 with 4 Axes>"
      ]
     },
     "metadata": {
      "needs_background": "light"
     },
     "output_type": "display_data"
    },
    {
     "name": "stdout",
     "output_type": "stream",
     "text": [
      "\n",
      "Similarity to LC grade ranking:  nan\n",
      "Brier score: 0.25\n",
      "Were parameters on edge? : False\n",
      "Score variations around CV search grid : 0.0\n",
      "[0.50343333]\n"
     ]
    }
   ],
   "source": [
    "from sklearn.dummy import DummyClassifier\n",
    "\n",
    "dc = DummyClassifier(strategy=\"uniform\")\n",
    "dc = fit_classification(dc, \n",
    "                       data_dict,\n",
    "                        model_name = 'Dummy Classifier'\n",
    "                       )"
   ]
  },
  {
   "cell_type": "markdown",
   "metadata": {
    "id": "4LV8bNYDszcO"
   },
   "source": [
    "### Naive Bayes"
   ]
  },
  {
   "cell_type": "code",
   "execution_count": null,
   "metadata": {
    "id": "vOgalLZzszcO",
    "outputId": "67e9f82b-ae5e-41eb-f9d4-9cfb746c045e"
   },
   "outputs": [
    {
     "name": "stdout",
     "output_type": "stream",
     "text": [
      "=========================================================\n",
      "  Model: Naive Bayes\n",
      "=========================================================\n",
      "Fit time: 48.98 seconds\n",
      "Optimal parameters:\n",
      "{'var_smoothing': 0.657933224657568}\n",
      "\n",
      "Accuracy-maximizing threshold was: 0.4948639508842411\n",
      "Recall:  0.02475502836513667\n",
      "              precision    recall  f1-score   support\n",
      "\n",
      "  No default     0.8094    0.9961    0.8931     16122\n",
      "     Default     0.6038    0.0248    0.0476      3878\n",
      "\n",
      "    accuracy                         0.8077     20000\n",
      "   macro avg     0.7066    0.5104    0.4703     20000\n",
      "weighted avg     0.7695    0.8077    0.7291     20000\n",
      "\n"
     ]
    },
    {
     "data": {
      "image/png": "[encoded data removed]",
      "text/plain": [
       "<Figure size 936x324 with 4 Axes>"
      ]
     },
     "metadata": {
      "needs_background": "light"
     },
     "output_type": "display_data"
    },
    {
     "name": "stdout",
     "output_type": "stream",
     "text": [
      "\n",
      "Similarity to LC grade ranking:  0.6473810778695849\n",
      "Brier score: 0.14647599696913433\n",
      "Were parameters on edge? : False\n",
      "Score variations around CV search grid : 68.21715041759695\n",
      "[0.80546667 0.80563333 0.8062     0.8049     0.8019     0.79373333\n",
      " 0.78793333 0.78186667 0.77736667 0.77293333 0.76993333 0.76663333\n",
      " 0.76363333 0.76083333 0.75916667 0.75743333 0.75566667 0.75496667\n",
      " 0.75436667 0.7543     0.75323333 0.75306667 0.75253333 0.75216667\n",
      " 0.75156667 0.75136667 0.75106667 0.75013333 0.74913333 0.7478\n",
      " 0.74663333 0.7447     0.74363333 0.7428     0.74153333 0.73956667\n",
      " 0.73703333 0.735      0.7326     0.73003333 0.72663333 0.7232\n",
      " 0.71896667 0.71483333 0.70953333 0.70386667 0.6981     0.69106667\n",
      " 0.6831     0.6743     0.66573333 0.65613333 0.6472     0.63676667\n",
      " 0.62486667 0.6142     0.60186667 0.58903333 0.57276667 0.55683333\n",
      " 0.53906667 0.52333333 0.50673333 0.4896     0.47286667 0.4585\n",
      " 0.44483333 0.43213333 0.4201     0.40966667 0.40013333 0.3908\n",
      " 0.3823     0.3747     0.3666     0.35953333 0.35223333 0.34583333\n",
      " 0.33966667 0.3343     0.3285     0.32336667 0.31833333 0.31406667\n",
      " 0.31033333 0.3061     0.30176667 0.29793333 0.29406667 0.28986667\n",
      " 0.2854     0.28223333 0.27873333 0.2749     0.2719     0.26833333\n",
      " 0.26493333 0.26156667 0.25843333 0.25623333]\n"
     ]
    }
   ],
   "source": [
    "## Train and test a naive bayes classifier\n",
    "gnb = GaussianNB()\n",
    "gnb = fit_classification(gnb, \n",
    "                         data_dict, \n",
    "                         cv_parameters = {'var_smoothing': np.logspace(0,-9, num=100)}\n",
    "                         ,model_name=\"Naive Bayes\")"
   ]
  },
  {
   "cell_type": "markdown",
   "metadata": {
    "id": "JB7UpsLxszcO"
   },
   "source": [
    "### $l_1$ regularized logistic regression"
   ]
  },
  {
   "cell_type": "code",
   "execution_count": null,
   "metadata": {
    "id": "F8I3Q48oszcO",
    "outputId": "3188bb3f-e61a-4a84-f352-907dcfd4bb41",
    "scrolled": true
   },
   "outputs": [
    {
     "name": "stdout",
     "output_type": "stream",
     "text": [
      "=========================================================\n",
      "  Model: l1 Regularized Logistic Regression\n",
      "=========================================================\n",
      "Fit time: 250.45 seconds\n",
      "Optimal parameters:\n",
      "{'C': 0.1}\n",
      "\n",
      "Accuracy-maximizing threshold was: 0.4831841297177727\n",
      "Recall:  0.04667354306343476\n",
      "              precision    recall  f1-score   support\n",
      "\n",
      "  No default     0.8122    0.9918    0.8931     16122\n",
      "     Default     0.5783    0.0467    0.0864      3878\n",
      "\n",
      "    accuracy                         0.8085     20000\n",
      "   macro avg     0.6952    0.5192    0.4897     20000\n",
      "weighted avg     0.7669    0.8085    0.7367     20000\n",
      "\n"
     ]
    },
    {
     "data": {
      "image/png": "[encoded data removed]",
      "text/plain": [
       "<Figure size 936x324 with 4 Axes>"
      ]
     },
     "metadata": {
      "needs_background": "light"
     },
     "output_type": "display_data"
    },
    {
     "name": "stdout",
     "output_type": "stream",
     "text": [
      "\n",
      "Similarity to LC grade ranking:  0.6930825094927892\n",
      "Brier score: 0.14374543467470272\n",
      "Were parameters on edge? : False\n",
      "Score variations around CV search grid : 0.30941870539214383\n",
      "[0.80546667 0.80796667 0.80783333 0.80783333 0.80783333 0.80783333]\n"
     ]
    }
   ],
   "source": [
    "## Train and test a l_1 regularized logistic regression classifier\n",
    "l1_logistic = LogisticRegression(penalty='l1', solver='liblinear')\n",
    "cv_parameters = {'C':[0.01, 0.1, 1, 10, 100, 1000]}\n",
    "\n",
    "l1_logistic = fit_classification(l1_logistic, data_dict, cv_parameters, model_name='l1 Regularized Logistic Regression')"
   ]
  },
  {
   "cell_type": "markdown",
   "metadata": {
    "id": "4l8oV3fUszcO"
   },
   "source": [
    "### $l_2$ regularized logistic regression"
   ]
  },
  {
   "cell_type": "code",
   "execution_count": null,
   "metadata": {
    "id": "rnjZkGyDszcO",
    "outputId": "f8c395f6-b814-4257-df2b-ef16d95387a4"
   },
   "outputs": [
    {
     "name": "stdout",
     "output_type": "stream",
     "text": [
      "=========================================================\n",
      "  Model: l2 Regularized Logistic Regression\n",
      "=========================================================\n",
      "Fit time: 16.92 seconds\n",
      "Optimal parameters:\n",
      "{'C': 0.1}\n",
      "\n",
      "Accuracy-maximizing threshold was: 0.5032773436394316\n",
      "Recall:  0.03558535327488396\n",
      "              precision    recall  f1-score   support\n",
      "\n",
      "  No default     0.8108    0.9944    0.8933     16122\n",
      "     Default     0.6026    0.0356    0.0672      3878\n",
      "\n",
      "    accuracy                         0.8085     20000\n",
      "   macro avg     0.7067    0.5150    0.4802     20000\n",
      "weighted avg     0.7705    0.8085    0.7331     20000\n",
      "\n"
     ]
    },
    {
     "data": {
      "image/png": "[encoded data removed]",
      "text/plain": [
       "<Figure size 936x324 with 4 Axes>"
      ]
     },
     "metadata": {
      "needs_background": "light"
     },
     "output_type": "display_data"
    },
    {
     "name": "stdout",
     "output_type": "stream",
     "text": [
      "\n",
      "Similarity to LC grade ranking:  0.6921787413013872\n",
      "Brier score: 0.1437347930735306\n",
      "Were parameters on edge? : False\n",
      "Score variations around CV search grid : 0.21445067634444462\n",
      "[0.80653333 0.80826667 0.80783333 0.8079     0.80786667 0.80786667]\n"
     ]
    }
   ],
   "source": [
    "## Train and test a l_1 regularized logistic regression classifier\n",
    "l2_logistic = LogisticRegression(penalty='l2', solver='liblinear')\n",
    "cv_parameters = {'C':[0.01, 0.1, 1, 10, 100, 1000]}\n",
    "\n",
    "l2_logistic = fit_classification(l2_logistic, data_dict, cv_parameters, model_name='l2 Regularized Logistic Regression')"
   ]
  },
  {
   "cell_type": "code",
   "execution_count": null,
   "metadata": {
    "id": "YcgH0CPCszcO",
    "outputId": "10aab1cc-d760-43f9-93b1-0e43273461eb"
   },
   "outputs": [
    {
     "data": {
      "image/png": "[encoded data removed]",
      "text/plain": [
       "<Figure size 432x288 with 1 Axes>"
      ]
     },
     "metadata": {
      "needs_background": "light"
     },
     "output_type": "display_data"
    }
   ],
   "source": [
    "## plot top 3 features with the most positive (and negative) weights \n",
    "top_and_bottom_idx = list(np.argsort(l2_logistic['model'].coef_)[0,:3]) + list(np.argsort(l2_logistic['model'].coef_)[0,-3:])\n",
    "bplot = pd.Series(l2_logistic['model'].coef_[0,top_and_bottom_idx])\n",
    "xticks = selected_features[top_and_bottom_idx]\n",
    "p1 = bplot.plot(kind='bar',rot=-80,ylim=(-5,10))\n",
    "p1.set_xticklabels(xticks)\n",
    "plt.show()"
   ]
  },
  {
   "cell_type": "markdown",
   "metadata": {
    "id": "KRoBdpqoszcO"
   },
   "source": [
    "### Decision tree"
   ]
  },
  {
   "cell_type": "code",
   "execution_count": null,
   "metadata": {
    "id": "EvqdrdRqszcO",
    "outputId": "423b607d-80ef-4366-a68f-986167d6d6e4"
   },
   "outputs": [
    {
     "name": "stdout",
     "output_type": "stream",
     "text": [
      "=========================================================\n",
      "  Model: Decision Tree\n",
      "=========================================================\n",
      "Fit time: 534.81 seconds\n",
      "Optimal parameters:\n",
      "{'criterion': 'entropy', 'max_depth': 3, 'min_samples_leaf': 1, 'min_samples_split': 2}\n",
      "\n",
      "Accuracy-maximizing threshold was: 1\n",
      "Recall:  0.0\n",
      "              precision    recall  f1-score   support\n",
      "\n",
      "  No default     0.8061    1.0000    0.8926     16122\n",
      "     Default     0.0000    0.0000    0.0000      3878\n",
      "\n",
      "    accuracy                         0.8061     20000\n",
      "   macro avg     0.4031    0.5000    0.4463     20000\n",
      "weighted avg     0.6498    0.8061    0.7196     20000\n",
      "\n"
     ]
    },
    {
     "data": {
      "image/png": "[encoded data removed]",
      "text/plain": [
       "<Figure size 936x324 with 4 Axes>"
      ]
     },
     "metadata": {
      "needs_background": "light"
     },
     "output_type": "display_data"
    },
    {
     "name": "stdout",
     "output_type": "stream",
     "text": [
      "\n",
      "Similarity to LC grade ranking:  0.7166416411087408\n",
      "Brier score: 0.14762531003993418\n",
      "Were parameters on edge? : True\n",
      "Score variations around CV search grid : nan\n",
      "[       nan        nan 0.80056667 0.80056667 0.80056667 0.80056667\n",
      " 0.80056667 0.80056667 0.80056667 0.80056667        nan        nan\n",
      " 0.80056667 0.80056667 0.80056667 0.80056667 0.80056667 0.80056667\n",
      " 0.80056667 0.80056667        nan        nan 0.80056667 0.80056667\n",
      " 0.80056667 0.80056667 0.80056667 0.80056667 0.80056667 0.80056667\n",
      "        nan        nan 0.80056667 0.80056667 0.80056667 0.80056667\n",
      " 0.80056667 0.80056667 0.80056667 0.80056667        nan        nan\n",
      " 0.78616667 0.78653333 0.78623333 0.78606667 0.78686667 0.78616667\n",
      " 0.78623333 0.78606667        nan        nan 0.7858     0.7858\n",
      " 0.7858     0.7858     0.78563333 0.78563333 0.78563333 0.78563333\n",
      "        nan        nan 0.78563333 0.78563333 0.78563333 0.78563333\n",
      " 0.78563333 0.78563333 0.78563333 0.78563333        nan        nan\n",
      " 0.78546667 0.78546667 0.78546667 0.78546667 0.78546667 0.78546667\n",
      " 0.78546667 0.78546667        nan        nan 0.77936667 0.77996667\n",
      " 0.7797     0.77953333 0.7798     0.77923333 0.78       0.77973333\n",
      "        nan        nan 0.7791     0.7792     0.77906667 0.7793\n",
      " 0.77906667 0.77873333 0.7788     0.77883333        nan        nan\n",
      " 0.78073333 0.78056667 0.77996667 0.78073333 0.78063333 0.78046667\n",
      " 0.77993333 0.78003333        nan        nan 0.78053333 0.78143333\n",
      " 0.78183333 0.7814     0.7814     0.7815     0.7819     0.7806\n",
      "        nan        nan 0.76496667 0.7651     0.76853333 0.76856667\n",
      " 0.7682     0.76816667 0.768      0.76876667        nan        nan\n",
      " 0.76526667 0.7687     0.76836667 0.76843333 0.76843333 0.76503333\n",
      " 0.7677     0.76533333        nan        nan 0.76543333 0.76623333\n",
      " 0.76613333 0.76876667 0.76636667 0.76866667 0.76613333 0.7688\n",
      "        nan        nan 0.77006667 0.76843333 0.76886667 0.77036667\n",
      " 0.76806667 0.76823333 0.76826667 0.76896667        nan        nan\n",
      " 0.80546667 0.80546667 0.80546667 0.80546667 0.80546667 0.80546667\n",
      " 0.80546667 0.80546667        nan        nan 0.80546667 0.80546667\n",
      " 0.80546667 0.80546667 0.80546667 0.80546667 0.80546667 0.80546667\n",
      "        nan        nan 0.80546667 0.80546667 0.80546667 0.80546667\n",
      " 0.80546667 0.80546667 0.80546667 0.80546667        nan        nan\n",
      " 0.80546667 0.80546667 0.80546667 0.80546667 0.80546667 0.80546667\n",
      " 0.80546667 0.80546667        nan        nan 0.8004     0.8004\n",
      " 0.8004     0.8004     0.8004     0.8004     0.8004     0.8004\n",
      "        nan        nan 0.8004     0.8004     0.8004     0.8004\n",
      " 0.8004     0.8004     0.8004     0.8004            nan        nan\n",
      " 0.8004     0.8004     0.8004     0.8004     0.8004     0.8004\n",
      " 0.8004     0.8004            nan        nan 0.8004     0.8004\n",
      " 0.8004     0.8004     0.8004     0.8004     0.8004     0.8004\n",
      "        nan        nan 0.7902     0.79       0.7901     0.79023333\n",
      " 0.79023333 0.78996667 0.7898     0.79006667        nan        nan\n",
      " 0.7901     0.79023333 0.7904     0.79       0.7902     0.7901\n",
      " 0.79023333 0.78993333        nan        nan 0.79       0.79016667\n",
      " 0.78986667 0.7903     0.79013333 0.78986667 0.79016667 0.79003333\n",
      "        nan        nan 0.7909     0.7909     0.79093333 0.79083333\n",
      " 0.79086667 0.7909     0.79086667 0.79083333        nan        nan\n",
      " 0.78046667 0.78056667 0.78006667 0.7801     0.7799     0.78023333\n",
      " 0.78003333 0.7804            nan        nan 0.78006667 0.78026667\n",
      " 0.7809     0.7809     0.78043333 0.7805     0.78026667 0.78106667\n",
      "        nan        nan 0.78006667 0.77956667 0.77996667 0.7797\n",
      " 0.78006667 0.78003333 0.7798     0.78              nan        nan\n",
      " 0.78363333 0.78406667 0.7835     0.7844     0.78396667 0.78386667\n",
      " 0.78373333 0.7838    ]\n"
     ]
    }
   ],
   "source": [
    "# Train and test a decision tree classifier\n",
    "# Source: https://ai.plainenglish.io/hyperparameter-tuning-of-decision-tree-classifier-using-gridsearchcv-2a6ebcaffeda\n",
    "\n",
    "decision_tree = DecisionTreeClassifier()\n",
    "cv_parameters = {'max_depth':[3, 5, 7, 9],\n",
    "                'criterion': ['gini', 'entropy'], \n",
    "                'min_samples_split': range(0,10),\n",
    "                'min_samples_leaf': range(1,5)}\n",
    "\n",
    "decision_tree = fit_classification(decision_tree, data_dict, cv_parameters, model_name = 'Decision Tree')"
   ]
  },
  {
   "cell_type": "markdown",
   "metadata": {
    "id": "zMrTeZW8szcO"
   },
   "source": [
    "### Random forest"
   ]
  },
  {
   "cell_type": "code",
   "execution_count": null,
   "metadata": {
    "id": "VpxPHmQRszcO",
    "outputId": "b56d2951-59e3-4625-965c-503e32147ef4"
   },
   "outputs": [
    {
     "name": "stdout",
     "output_type": "stream",
     "text": [
      "=========================================================\n",
      "  Model: Random Forest\n",
      "=========================================================\n",
      "Fit time: 1835.01 seconds\n",
      "Optimal parameters:\n",
      "{'criterion': 'gini', 'max_depth': 7, 'min_samples_leaf': 2, 'min_samples_split': 9}\n",
      "\n",
      "Accuracy-maximizing threshold was: 0.3570852706790601\n",
      "Recall:  0.12171222279525529\n",
      "              precision    recall  f1-score   support\n",
      "\n",
      "  No default     0.8211    0.9698    0.8893     16122\n",
      "     Default     0.4922    0.1217    0.1952      3878\n",
      "\n",
      "    accuracy                         0.8054     20000\n",
      "   macro avg     0.6567    0.5458    0.5422     20000\n",
      "weighted avg     0.7573    0.8054    0.7547     20000\n",
      "\n"
     ]
    },
    {
     "data": {
      "image/png": "[encoded data removed]",
      "text/plain": [
       "<Figure size 936x324 with 4 Axes>"
      ]
     },
     "metadata": {
      "needs_background": "light"
     },
     "output_type": "display_data"
    },
    {
     "name": "stdout",
     "output_type": "stream",
     "text": [
      "\n",
      "Similarity to LC grade ranking:  0.7418194128274741\n",
      "Brier score: 0.1441277361112696\n",
      "Were parameters on edge? : True\n",
      "Score variations around CV search grid : nan\n",
      "[       nan        nan 0.80546667 0.80546667 0.80546667 0.80546667\n",
      " 0.80546667 0.80546667 0.80546667 0.80546667        nan        nan\n",
      " 0.80546667 0.80546667 0.80546667 0.80546667 0.80546667 0.80546667\n",
      " 0.80546667 0.80546667        nan        nan 0.80546667 0.80546667\n",
      " 0.80546667 0.80546667 0.80546667 0.80546667 0.80546667 0.80546667\n",
      "        nan        nan 0.80546667 0.80546667 0.80546667 0.80546667\n",
      " 0.80546667 0.80546667 0.80546667 0.80546667        nan        nan\n",
      " 0.80546667 0.80546667 0.80546667 0.80546667 0.80546667 0.80546667\n",
      " 0.80546667 0.80546667        nan        nan 0.80546667 0.80546667\n",
      " 0.80546667 0.80546667 0.80546667 0.80546667 0.80546667 0.80546667\n",
      "        nan        nan 0.80546667 0.80546667 0.80546667 0.80546667\n",
      " 0.80546667 0.80546667 0.80546667 0.80546667        nan        nan\n",
      " 0.80546667 0.80546667 0.80546667 0.80546667 0.80546667 0.80546667\n",
      " 0.80546667 0.80546667        nan        nan 0.80533333 0.8054\n",
      " 0.80546667 0.8052     0.80533333 0.80526667 0.80533333 0.8053\n",
      "        nan        nan 0.80536667 0.80526667 0.8054     0.80543333\n",
      " 0.8054     0.8054     0.80536667 0.8055            nan        nan\n",
      " 0.80536667 0.8052     0.80526667 0.80536667 0.8052     0.80533333\n",
      " 0.80536667 0.8053            nan        nan 0.80523333 0.80513333\n",
      " 0.8053     0.8052     0.80526667 0.80543333 0.80523333 0.80536667\n",
      "        nan        nan 0.80546667 0.80546667 0.80546667 0.80546667\n",
      " 0.80546667 0.80546667 0.80546667 0.80546667        nan        nan\n",
      " 0.80546667 0.80546667 0.80546667 0.80546667 0.80546667 0.80546667\n",
      " 0.80546667 0.80546667        nan        nan 0.80546667 0.80546667\n",
      " 0.80546667 0.80546667 0.80546667 0.80546667 0.80546667 0.80546667\n",
      "        nan        nan 0.80546667 0.80546667 0.80546667 0.80546667\n",
      " 0.80546667 0.80546667 0.80546667 0.80546667        nan        nan\n",
      " 0.80546667 0.80546667 0.80546667 0.80546667 0.80546667 0.80546667\n",
      " 0.80546667 0.80546667        nan        nan 0.80546667 0.80546667\n",
      " 0.80546667 0.80546667 0.80546667 0.80546667 0.80546667 0.80546667\n",
      "        nan        nan 0.80546667 0.80546667 0.80546667 0.80546667\n",
      " 0.80546667 0.80546667 0.80546667 0.80546667        nan        nan\n",
      " 0.80546667 0.80546667 0.80546667 0.80546667 0.80546667 0.80546667\n",
      " 0.80546667 0.80546667        nan        nan 0.80543333 0.8055\n",
      " 0.80546667 0.80546667 0.80546667 0.80533333 0.80533333 0.8053\n",
      "        nan        nan 0.80543333 0.80526667 0.80536667 0.80536667\n",
      " 0.80536667 0.80533333 0.80546667 0.8053            nan        nan\n",
      " 0.80543333 0.80533333 0.8054     0.80543333 0.80543333 0.8054\n",
      " 0.80533333 0.8054            nan        nan 0.8053     0.80533333\n",
      " 0.80543333 0.80536667 0.8054     0.8055     0.8053     0.80536667]\n"
     ]
    }
   ],
   "source": [
    "## Train and test a random forest classifier\n",
    "\n",
    "# njobs -1 means process on all cores... was taking forever otherwise\n",
    "random_forest = RandomForestClassifier(n_jobs = -1)\n",
    "\n",
    "cv_parameters = {'max_depth':[3, 5, 7],\n",
    "                'criterion': ['gini', 'entropy'], \n",
    "                'min_samples_split': range(0,10),\n",
    "                'min_samples_leaf': range(1,5),\n",
    "                }\n",
    "\n",
    "random_forest = fit_classification(random_forest, data_dict, cv_parameters, model_name = 'Random Forest')"
   ]
  },
  {
   "cell_type": "code",
   "execution_count": null,
   "metadata": {
    "id": "NS7cYDbuszcO",
    "outputId": "32ca4fe2-4a6c-41d7-ede6-d1f2ad0c70b5"
   },
   "outputs": [
    {
     "data": {
      "image/png": "[encoded data removed]",
      "text/plain": [
       "<Figure size 432x288 with 1 Axes>"
      ]
     },
     "metadata": {
      "needs_background": "light"
     },
     "output_type": "display_data"
    }
   ],
   "source": [
    "## Plot top 6 most significant features\n",
    "top_idx = list(np.argsort(random_forest['model'].feature_importances_)[-6:]) \n",
    "bplot = pd.Series(random_forest['model'].feature_importances_[top_idx])\n",
    "xticks = selected_features[top_idx]\n",
    "p2 = bplot.plot(kind='bar',rot=-80,ylim=(0,0.2))\n",
    "p2.set_xticklabels(xticks)\n",
    "plt.show()"
   ]
  },
  {
   "cell_type": "markdown",
   "metadata": {
    "id": "5GNjtDxYszcP"
   },
   "source": [
    "### Multi-layer perceptron"
   ]
  },
  {
   "cell_type": "code",
   "execution_count": null,
   "metadata": {
    "id": "L_f8jgZwszcP",
    "outputId": "5fcfb76d-84d2-4e0f-bea3-ab14fd828746"
   },
   "outputs": [
    {
     "name": "stdout",
     "output_type": "stream",
     "text": [
      "=========================================================\n",
      "  Model: Multi-layer perceptron\n",
      "=========================================================\n",
      "Fit time: 1837.18 seconds\n",
      "Optimal parameters:\n",
      "{'activation': 'logistic', 'alpha': 0.0001, 'hidden_layer_sizes': (20,), 'learning_rate': 'constant', 'solver': 'adam'}\n",
      "\n",
      "Accuracy-maximizing threshold was: 0.4725947282637024\n",
      "Recall:  0.037132542547705004\n",
      "              precision    recall  f1-score   support\n",
      "\n",
      "  No default     0.8111    0.9945    0.8935     16122\n",
      "     Default     0.6207    0.0371    0.0701      3878\n",
      "\n",
      "    accuracy                         0.8089     20000\n",
      "   macro avg     0.7159    0.5158    0.4818     20000\n",
      "weighted avg     0.7742    0.8089    0.7338     20000\n",
      "\n"
     ]
    },
    {
     "data": {
      "image/png": "[encoded data removed]",
      "text/plain": [
       "<Figure size 936x324 with 4 Axes>"
      ]
     },
     "metadata": {
      "needs_background": "light"
     },
     "output_type": "display_data"
    },
    {
     "name": "stdout",
     "output_type": "stream",
     "text": [
      "\n",
      "Similarity to LC grade ranking:  0.6902752135074725\n",
      "Brier score: 0.14392647937960956\n",
      "Were parameters on edge? : True\n",
      "Score variations around CV search grid : 1.0359914148918838\n",
      "[0.80713333 0.80293333 0.8068     0.79923333 0.80733333 0.8049\n",
      " 0.8061     0.80243333 0.80703333 0.80726667 0.80693333 0.8064\n",
      " 0.8071     0.80713333 0.80746667 0.80746667 0.80573333 0.79936667\n",
      " 0.8059     0.79976667 0.80713333 0.80166667 0.8062     0.80186667\n",
      " 0.8064     0.80323333 0.806      0.80486667 0.80576667 0.806\n",
      " 0.80626667 0.80536667 0.80546667 0.8063     0.80546667 0.80633333\n",
      " 0.80546667 0.8076     0.80546667 0.80716667 0.80546667 0.80643333\n",
      " 0.80546667 0.8065     0.80546667 0.80686667 0.80546667 0.80736667]\n"
     ]
    }
   ],
   "source": [
    "# Train and test a multi-layer perceptron classifier\n",
    "# Source: https://panjeh.medium.com/scikit-learn-hyperparameter-optimization-for-mlpclassifier-4d670413042b\n",
    "\n",
    "mlp = MLPClassifier()\n",
    "cv_parameters = {'hidden_layer_sizes': [(10,30,10),(20,)],\n",
    "                 'activation': ['tanh', 'relu', 'logistic'],\n",
    "                 'solver': ['sgd', 'adam'],\n",
    "                 'alpha': [0.0001, 0.05],\n",
    "                 'learning_rate': ['constant','adaptive']\n",
    "                }\n",
    "\n",
    "mlp = fit_classification(mlp, data_dict, cv_parameters, model_name = 'Multi-layer perceptron')"
   ]
  },
  {
   "cell_type": "markdown",
   "metadata": {
    "id": "PvdeuKPBszcP"
   },
   "source": [
    "## 3.ii. Train and Test logistic regression model with features derived by LendingClub"
   ]
  },
  {
   "cell_type": "code",
   "execution_count": null,
   "metadata": {
    "id": "apSdqzS5szcP",
    "outputId": "84fd3ef6-652f-48b9-a4bf-795d2586f61c"
   },
   "outputs": [
    {
     "name": "stdout",
     "output_type": "stream",
     "text": [
      "=========================================================\n",
      "  Model: Only Grade - l1 Regularized Logistic Regression\n",
      "=========================================================\n",
      "Fit time: 0.68 seconds\n",
      "Optimal parameters:\n",
      "{'C': 0.01}\n",
      "\n",
      "Accuracy-maximizing threshold was: 1\n",
      "Recall:  0.0\n",
      "              precision    recall  f1-score   support\n",
      "\n",
      "  No default     0.8061    1.0000    0.8926     16122\n",
      "     Default     0.0000    0.0000    0.0000      3878\n",
      "\n",
      "    accuracy                         0.8061     20000\n",
      "   macro avg     0.4031    0.5000    0.4463     20000\n",
      "weighted avg     0.6498    0.8061    0.7196     20000\n",
      "\n"
     ]
    },
    {
     "data": {
      "image/png": "[encoded data removed]",
      "text/plain": [
       "<Figure size 936x324 with 4 Axes>"
      ]
     },
     "metadata": {
      "needs_background": "light"
     },
     "output_type": "display_data"
    },
    {
     "name": "stdout",
     "output_type": "stream",
     "text": [
      "\n",
      "Similarity to LC grade ranking:  0.6833463888312478\n",
      "Brier score: 0.1497074263440674\n",
      "Were parameters on edge? : True\n",
      "Score variations around CV search grid : 0.0\n",
      "[0.80546667 0.80546667 0.80546667 0.80546667 0.80546667 0.80546667]\n"
     ]
    }
   ],
   "source": [
    "## Find a lendingClub-defined feature and train a l1-regularized logistic regression model on data with only that feature\n",
    "a_lendingclub_feature = 'grade'\n",
    "\n",
    "data_dict = prepare_data(feature_subset = a_lendingclub_feature)\n",
    "lc1_only_logistic = LogisticRegression(penalty='l1', solver='liblinear')\n",
    "cv_parameters = {'C':[0.01, 0.1, 1, 10, 100, 1000]}\n",
    "\n",
    "lc1_only_logistic = fit_classification(lc1_only_logistic, data_dict, cv_parameters, model_name='Only Grade - l1 Regularized Logistic Regression')"
   ]
  },
  {
   "cell_type": "code",
   "execution_count": null,
   "metadata": {
    "id": "WwVUudSVszcP",
    "outputId": "bde7c4d3-1d2d-4c1e-8b2d-1fd69b1d0eb7"
   },
   "outputs": [
    {
     "name": "stdout",
     "output_type": "stream",
     "text": [
      "=========================================================\n",
      "  Model: Only Grade - l2 Regularized Logistic Regression\n",
      "=========================================================\n",
      "Fit time: 0.48 seconds\n",
      "Optimal parameters:\n",
      "{'C': 0.01}\n",
      "\n",
      "Accuracy-maximizing threshold was: 1\n",
      "Recall:  0.0\n",
      "              precision    recall  f1-score   support\n",
      "\n",
      "  No default     0.8061    1.0000    0.8926     16122\n",
      "     Default     0.0000    0.0000    0.0000      3878\n",
      "\n",
      "    accuracy                         0.8061     20000\n",
      "   macro avg     0.4031    0.5000    0.4463     20000\n",
      "weighted avg     0.6498    0.8061    0.7196     20000\n",
      "\n"
     ]
    },
    {
     "data": {
      "image/png": "[encoded data removed]",
      "text/plain": [
       "<Figure size 936x324 with 4 Axes>"
      ]
     },
     "metadata": {
      "needs_background": "light"
     },
     "output_type": "display_data"
    },
    {
     "name": "stdout",
     "output_type": "stream",
     "text": [
      "\n",
      "Similarity to LC grade ranking:  0.7023150890457355\n",
      "Brier score: 0.1494565112766282\n",
      "Were parameters on edge? : True\n",
      "Score variations around CV search grid : 0.0\n",
      "[0.80546667 0.80546667 0.80546667 0.80546667 0.80546667 0.80546667]\n"
     ]
    }
   ],
   "source": [
    "## train a l2-regularized logistic regression model on data with only that feature\n",
    "lc2_only_logistic = LogisticRegression(penalty='l2', solver='liblinear')\n",
    "cv_parameters = {'C':[0.01, 0.1, 1, 10, 100, 1000]}\n",
    "\n",
    "lc2_only_logistic = fit_classification(lc2_only_logistic, data_dict, cv_parameters, model_name='Only Grade - l2 Regularized Logistic Regression')"
   ]
  },
  {
   "cell_type": "markdown",
   "metadata": {
    "id": "cF8WrKQvszcP"
   },
   "source": [
    "## 3.iii. Train and test all the models you have tried previously after removing features derived by LendingClub "
   ]
  },
  {
   "cell_type": "markdown",
   "metadata": {
    "id": "EsIZtuHQ-Tme"
   },
   "source": [
    "### Running a classification model on the 100 Train/Test Splits"
   ]
  },
  {
   "cell_type": "code",
   "execution_count": null,
   "metadata": {
    "id": "fDf_HNZr-Tme"
   },
   "outputs": [],
   "source": [
    "def best_params_fit_classification(model, data_dict,\n",
    "                          cv_parameters = {},\n",
    "                          model_name = None,\n",
    "                          random_state = default_seed,\n",
    "                          output_to_file = True,\n",
    "                          print_to_screen = True):\n",
    "    '''\n",
    "    This function will fit a classification model to data and print various evaluation\n",
    "    measures. It expects the following parameters\n",
    "      - model: an sklearn model object\n",
    "      - data_dict: the dictionary containing both training and testing data;\n",
    "                   returned by the prepare_data function\n",
    "      - cv_parameters: a dictionary of parameters that should be optimized\n",
    "                       over using cross-validation. Specifically, each named\n",
    "                       entry in the dictionary should correspond to a parameter,\n",
    "                       and each element should be a list containing the values\n",
    "                       to optimize over\n",
    "      - model_name: the name of the model being fit, for printouts\n",
    "      - random_state: the random seed to use\n",
    "      - output_to_file: if the results will be saved to the output file\n",
    "      - print_to_screen: if the results will be printed on screen\n",
    "    \n",
    "    If the model provided does not have a predict_proba function, we will\n",
    "    simply print accuracy diagnostics and return.\n",
    "    \n",
    "    If the model provided does have a predict_proba function, we first\n",
    "    figure out the optimal threshold that maximizes the accuracy and\n",
    "    print out accuracy diagnostics. We then print an ROC curve, sensitivity/\n",
    "    specificity curve, and calibration curve.\n",
    "    \n",
    "    This function returns a dictionary with the following entries\n",
    "      - model: the best fitted model\n",
    "      - y_pred: predictions for the test set\n",
    "      - y_pred_probs: probability predictions for the test set, if the model\n",
    "                      supports them\n",
    "      - y_pred_score: prediction scores for the test set, if the model does not \n",
    "                      output probabilities.\n",
    "    '''\n",
    "        \n",
    "    np.random.seed(random_state)\n",
    "    \n",
    "    # --------------------------\n",
    "    #   Step 1 - Load the data\n",
    "    # --------------------------\n",
    "    X_train = data_dict['X_train']\n",
    "    y_train = data_dict['y_train']\n",
    "    \n",
    "    X_test = data_dict['X_test']\n",
    "    y_test = data_dict['y_test']\n",
    "    \n",
    "    filter_train = data_dict['train_set']    \n",
    "  \n",
    "    # --------------------------\n",
    "    #   Step 2 - Fit the model\n",
    "    # --------------------------\n",
    "\n",
    "    cv_model = GridSearchCV(model, cv_parameters)\n",
    "    \n",
    "    start_time = time.time()\n",
    "    cv_model.fit(X_train, y_train)\n",
    "    end_time = time.time()\n",
    "    \n",
    "    best_model = cv_model.best_estimator_\n",
    "    \n",
    "    if print_to_screen:\n",
    "\n",
    "        if model_name != None:\n",
    "            print(\"=========================================================\")\n",
    "            print(\"  Model: \" + model_name)\n",
    "            print(\"=========================================================\")\n",
    "\n",
    "        print(\"Fit time: \" + str(round(end_time - start_time, 2)) + \" seconds\")\n",
    "        print(\"Optimal parameters:\")\n",
    "        print(cv_model.best_params_)\n",
    "        print(\"\")\n",
    "    \n",
    "    # -------------------------------\n",
    "    #   Step 3 - Evaluate the model\n",
    "    # -------------------------------\n",
    "    \n",
    "    # If possible, make probability predictions\n",
    "    try:\n",
    "        y_pred_probs = best_model.predict_proba(X_test)[:,1]\n",
    "        fpr, tpr, thresholds = roc_curve(y_test, y_pred_probs)\n",
    "        \n",
    "        probs_predicted = True\n",
    "    except:\n",
    "        probs_predicted = False\n",
    "    \n",
    "    # Make predictions; if we were able to find probabilities, use\n",
    "    # the threshold that maximizes the accuracy in the training set.\n",
    "    # If not, just use the learner's predict function\n",
    "    if probs_predicted:\n",
    "        y_train_pred_probs = best_model.predict_proba(X_train)[:,1]\n",
    "        fpr_train, tpr_train, thresholds_train = roc_curve(y_train, y_train_pred_probs)\n",
    "        \n",
    "        true_pos_train = tpr_train*(y_train.sum())\n",
    "        true_neg_train = (1 - fpr_train) *(1-y_train).sum()\n",
    "        \n",
    "        best_threshold_index = np.argmax(true_pos_train + true_neg_train)\n",
    "        best_threshold = 1 if best_threshold_index == 0 else thresholds_train[ best_threshold_index ]\n",
    "        \n",
    "        if print_to_screen:\n",
    "            print(\"Accuracy-maximizing threshold was: \" + str(best_threshold))\n",
    "        \n",
    "        y_pred = (y_pred_probs > best_threshold)\n",
    "    else:\n",
    "        y_pred = best_model.predict(X_test)\n",
    "    \n",
    "    if print_to_screen:\n",
    "        print(\"Recall: \", recall_score(y_test, y_pred))\n",
    "        print(classification_report(y_test, y_pred, target_names =['No default', 'Default'], digits = 4))\n",
    "\n",
    "    if print_to_screen:\n",
    "        if probs_predicted:        \n",
    "            plt.figure(figsize = (13, 4.5))\n",
    "            plt.subplot(2, 2, 1)\n",
    "\n",
    "            plt.title(\"ROC Curve (AUC = %0.2f)\"% roc_auc_score(y_test, y_pred_probs))\n",
    "            plt.plot(fpr, tpr, 'b')\n",
    "            plt.plot([0,1],[0,1],'r--')\n",
    "            plt.xlim([0,1]); plt.ylim([0,1])\n",
    "            plt.ylabel('True Positive Rate')\n",
    "            plt.xlabel('False Positive Rate')\n",
    "\n",
    "            plt.subplot(2, 2, 3)\n",
    "\n",
    "            plt.plot(thresholds, tpr, 'b', label = 'Sensitivity')\n",
    "            plt.plot(thresholds, 1 -fpr, 'r', label = 'Specificity')\n",
    "            plt.legend(loc = 'lower right')\n",
    "            plt.xlim([0,1]); plt.ylim([0,1])\n",
    "            plt.xlabel('Threshold')\n",
    "\n",
    "            plt.subplot(2, 2, 2)\n",
    "\n",
    "            fp_0, mpv_0 = calibration_curve(y_test, y_pred_probs, n_bins = 10)\n",
    "            plt.plot([0,1], [0,1], 'k:', label='Perfectly calibrated')\n",
    "            plt.plot(mpv_0, fp_0, 's-')\n",
    "            plt.ylabel('Fraction of Positives')\n",
    "            plt.xlim([0,1]); plt.ylim([0,1])\n",
    "            plt.legend(loc ='upper left')\n",
    "            \n",
    "            plt.subplot(2, 2, 4)\n",
    "            plt.hist(y_pred_probs, range=(0, 1), bins=10, histtype=\"step\", lw=2)\n",
    "            plt.xlim([0,1]); plt.ylim([0,20000])\n",
    "            plt.xlabel('Mean Predicted Probability')\n",
    "            plt.ylabel('Count')\n",
    "            \n",
    "            #plt.tight_layout()\n",
    "            plt.show()\n",
    "        \n",
    "    # Additional Score Check\n",
    "    if probs_predicted:\n",
    "        y_train_score = y_train_pred_probs\n",
    "    else:\n",
    "        y_train_score = best_model.decision_function(X_train)\n",
    "        \n",
    "    tau, p_value = kendalltau(y_train_score, data.grade[filter_train])\n",
    "    if print_to_screen:\n",
    "        print(\"\")\n",
    "        print(\"Similarity to LC grade ranking: \", tau)\n",
    "    \n",
    "    if probs_predicted:\n",
    "        brier_score = brier_score_loss(y_test, y_pred_probs)\n",
    "        if print_to_screen:\n",
    "            print(\"Brier score:\", brier_score)\n",
    "    \n",
    "    # Return the model predictions, and the\n",
    "    # test set\n",
    "    # -------------------------------------\n",
    "    out = {'model':best_model, 'y_pred_labels':y_pred}\n",
    "    \n",
    "    if probs_predicted:\n",
    "        out.update({'y_pred_probs':y_pred_probs})\n",
    "    else:\n",
    "        y_pred_score = best_model.decision_function(X_test)\n",
    "        out.update({'y_pred_score':y_pred_score})\n",
    "        \n",
    "    # Output results to file\n",
    "    # ----------------------\n",
    "    if probs_predicted and output_to_file:\n",
    "        # Check whether any of the CV parameters are on the edge of\n",
    "        # the search space\n",
    "        opt_params_on_edge = find_opt_params_on_edge(cv_model)\n",
    "        dump_to_output(model_name + \"::search_on_edge\", opt_params_on_edge)\n",
    "        if print_to_screen:\n",
    "            print(\"Were parameters on edge? : \" + str(opt_params_on_edge))\n",
    "        \n",
    "        # Find out how different the scores are for the different values\n",
    "        # tested for by cross-validation. If they're not too different, then\n",
    "        # even if the parameters are off the edge of the search grid, we should\n",
    "        # be ok\n",
    "        score_variation = find_score_variation(cv_model)\n",
    "        dump_to_output(model_name + \"::score_variation\", score_variation)\n",
    "        if print_to_screen:\n",
    "            print(\"Score variations around CV search grid : \" + str(score_variation))\n",
    "        \n",
    "        # Print out all the scores\n",
    "        dump_to_output(model_name + \"::all_cv_scores\", str(cv_model.cv_results_['mean_test_score']))\n",
    "        if print_to_screen:\n",
    "            print( str(cv_model.cv_results_['mean_test_score']) )\n",
    "        \n",
    "        # Dump the AUC to file\n",
    "        dump_to_output(model_name + \"::roc_auc\", roc_auc_score(y_test, y_pred_probs) )\n",
    "        \n",
    "    return out"
   ]
  },
  {
   "cell_type": "code",
   "execution_count": null,
   "metadata": {
    "id": "-eIFMV5W-Tme"
   },
   "outputs": [],
   "source": [
    "# Not complete, take a look at avg_metrics_for_hundred_splits_regression \n",
    "# need to add averaging w metric\n",
    "def avg_metrics_for_hundred_splits_classification(model\n",
    "                                                  , data_dict\n",
    "                                                  , hundred_train_test_splits\n",
    "                                                  , model_name): \n",
    "    hundred_models_best_params = []\n",
    "\n",
    "    for random_split in hundred_train_test_splits:\n",
    "        hundred_models_best_params.append(best_params_fit_classification(model, \n",
    "                                                                    random_split, \n",
    "                                                                    output_to_file=False, \n",
    "                                                                    print_to_screen=False))\n",
    "    accuracies = []\n",
    "    for h in hundred_models_best_params:\n",
    "        accuracies.append(recall_score(data_dict['y_test'], h['y_pred_labels']))\n",
    "    \n",
    "    avg = np.mean(accuracies)\n",
    "    std = np.std(accuracies)\n",
    "    \n",
    "    print(\"{}: {} +/- {}\".format(model_name, avg, std))"
   ]
  },
  {
   "cell_type": "code",
   "execution_count": null,
   "metadata": {
    "id": "edTHr3Zh-Tme"
   },
   "outputs": [],
   "source": [
    "from sklearn.dummy import DummyClassifier\n",
    "\n",
    "# Best models\n",
    "dc = DummyClassifier()\n",
    "gnb = GaussianNB(var_smoothing=0.657933224657568)\n",
    "l1_logistic = LogisticRegression(penalty='l1', solver='liblinear', C=0.1)\n",
    "l2_logistic = LogisticRegression(penalty='l2', solver='liblinear', C=0.2)\n",
    "decision_tree = DecisionTreeClassifier(criterion='entropy', max_depth=3, min_samples_leaf=1, min_samples_split=2)\n",
    "random_forest = RandomForestClassifier(criterion='gini', max_depth=7, min_samples_leaf=2, min_samples_split=9, n_jobs=-1)\n",
    "mlp = MLPClassifier(activation='logistic', alpha=0.0001, hidden_layer_sizes=(20,), learning_rate='constant', solver='adam')"
   ]
  },
  {
   "cell_type": "code",
   "execution_count": null,
   "metadata": {
    "id": "pTT3ZCahszcP",
    "outputId": "6fc89571-30a9-4e78-dd16-85930c7a1cfb"
   },
   "outputs": [
    {
     "name": "stdout",
     "output_type": "stream",
     "text": [
      "Dummy Classifier: 0.0 +/- 0.0\n",
      "Naive Bayes Classifier: 0.0067534811758638465 +/- 0.005543278661864567\n",
      "L1-Logistic Classifier: 0.015407426508509544 +/- 0.00805491420273299\n",
      "L2-Logistic Classifier: 0.01594636410520887 +/- 0.007461855740788212\n",
      "Decision Tree Classifier: 0.0 +/- 0.0\n",
      "Random Forest Classifier: 0.04000773594636411 +/- 0.007651713931465534\n",
      "Multi-layer Perceptron Classifier: 0.015843218153687465 +/- 0.007427611516278324\n"
     ]
    }
   ],
   "source": [
    "# Remove LendingClub derived features\n",
    "removed_features = ['grade', 'dti', 'verification_status', 'dti', 'revol_util', 'loan_status']\n",
    "your_features = set(your_features) - set(removed_features)\n",
    "\n",
    "# Prepare the train, test data for training models with new features\n",
    "data_dict = prepare_data(feature_subset = your_features)\n",
    "\n",
    "avg_metrics_for_hundred_splits_classification(dc, data_dict, hundred_train_test_splits, 'Dummy Classifier')\n",
    "avg_metrics_for_hundred_splits_classification(gnb, data_dict, hundred_train_test_splits, 'Naive Bayes Classifier')\n",
    "avg_metrics_for_hundred_splits_classification(l1_logistic, data_dict, hundred_train_test_splits, 'L1-Logistic Classifier')\n",
    "avg_metrics_for_hundred_splits_classification(l2_logistic, data_dict, hundred_train_test_splits, 'L2-Logistic Classifier')\n",
    "avg_metrics_for_hundred_splits_classification(decision_tree, data_dict, hundred_train_test_splits, 'Decision Tree Classifier')\n",
    "avg_metrics_for_hundred_splits_classification(random_forest, data_dict, hundred_train_test_splits, 'Random Forest Classifier')\n",
    "avg_metrics_for_hundred_splits_classification(mlp, data_dict, hundred_train_test_splits, 'Multi-layer Perceptron Classifier')\n",
    "\n",
    "# Prints average recall +/- standard deviation of 100 random fits"
   ]
  },
  {
   "cell_type": "markdown",
   "metadata": {
    "id": "b5T4jdT3-Tme"
   },
   "source": [
    "## YOUR MODEL"
   ]
  },
  {
   "cell_type": "code",
   "execution_count": 25,
   "metadata": {
    "id": "bLOetlF--Tme",
    "outputId": "fae4fab5-f732-4212-d7c4-d2de0f8d1c4a"
   },
   "outputs": [
    {
     "name": "stdout",
     "output_type": "stream",
     "text": [
      "=========================================================\n",
      "  Model: Random Forest\n",
      "=========================================================\n",
      "Fit time: 4.34 seconds\n",
      "Optimal parameters:\n",
      "{}\n",
      "\n",
      "Accuracy-maximizing threshold was: 0.3852473097556261\n",
      "Recall:  0.08612686952037132\n",
      "              precision    recall  f1-score   support\n",
      "\n",
      "  No default     0.8170    0.9815    0.8917     16122\n",
      "     Default     0.5276    0.0861    0.1481      3878\n",
      "\n",
      "    accuracy                         0.8078     20000\n",
      "   macro avg     0.6723    0.5338    0.5199     20000\n",
      "weighted avg     0.7609    0.8078    0.7475     20000\n",
      "\n"
     ]
    },
    {
     "data": {
      "image/png": "[encoded data removed]",
      "text/plain": [
       "<Figure size 936x324 with 4 Axes>"
      ]
     },
     "metadata": {
      "needs_background": "light"
     },
     "output_type": "display_data"
    },
    {
     "name": "stdout",
     "output_type": "stream",
     "text": [
      "\n",
      "Similarity to LC grade ranking:  0.7583634697220473\n",
      "Brier score: 0.14398530635959206\n",
      "Were parameters on edge? : False\n",
      "Score variations around CV search grid : 0.0\n",
      "[0.80536667]\n"
     ]
    }
   ],
   "source": [
    "# best parameters = {'criterion': 'gini', 'max_depth': 7, 'min_samples_leaf': 2, 'min_samples_split': 9}\n",
    "\n",
    "model = RandomForestClassifier(criterion='gini', max_depth=7, min_samples_leaf=2, min_samples_split=9, n_jobs=-1)\n",
    "your_model = fit_classification(model, data_dict, model_name = 'Random Forest')"
   ]
  },
  {
   "cell_type": "markdown",
   "metadata": {
    "id": "XHW882pV-Tme"
   },
   "source": [
    "## 4. YOURMODEL grades analysis"
   ]
  },
  {
   "cell_type": "code",
   "execution_count": null,
   "metadata": {
    "id": "GSqOhVOa-Tme",
    "outputId": "ed6735ba-3d70-4787-b62b-4a4e95602077"
   },
   "outputs": [
    {
     "name": "stdout",
     "output_type": "stream",
     "text": [
      "\n",
      "\n",
      "loan percentages in each grade for testing data:\n"
     ]
    },
    {
     "data": {
      "text/html": [
       "<div>\n",
       "<style scoped>\n",
       "    .dataframe tbody tr th:only-of-type {\n",
       "        vertical-align: middle;\n",
       "    }\n",
       "\n",
       "    .dataframe tbody tr th {\n",
       "        vertical-align: top;\n",
       "    }\n",
       "\n",
       "    .dataframe thead th {\n",
       "        text-align: right;\n",
       "    }\n",
       "</style>\n",
       "<table border=\"1\" class=\"dataframe\">\n",
       "  <thead>\n",
       "    <tr style=\"text-align: right;\">\n",
       "      <th></th>\n",
       "      <th>y_pred</th>\n",
       "      <th>y_actual</th>\n",
       "    </tr>\n",
       "    <tr>\n",
       "      <th>grade</th>\n",
       "      <th></th>\n",
       "      <th></th>\n",
       "    </tr>\n",
       "  </thead>\n",
       "  <tbody>\n",
       "    <tr>\n",
       "      <th>A</th>\n",
       "      <td>18.675</td>\n",
       "      <td>18.675</td>\n",
       "    </tr>\n",
       "    <tr>\n",
       "      <th>B</th>\n",
       "      <td>29.335</td>\n",
       "      <td>29.335</td>\n",
       "    </tr>\n",
       "    <tr>\n",
       "      <th>C</th>\n",
       "      <td>27.425</td>\n",
       "      <td>27.425</td>\n",
       "    </tr>\n",
       "    <tr>\n",
       "      <th>D</th>\n",
       "      <td>15.465</td>\n",
       "      <td>15.465</td>\n",
       "    </tr>\n",
       "    <tr>\n",
       "      <th>E</th>\n",
       "      <td>6.375</td>\n",
       "      <td>6.375</td>\n",
       "    </tr>\n",
       "    <tr>\n",
       "      <th>F</th>\n",
       "      <td>2.140</td>\n",
       "      <td>2.140</td>\n",
       "    </tr>\n",
       "    <tr>\n",
       "      <th>G</th>\n",
       "      <td>0.585</td>\n",
       "      <td>0.585</td>\n",
       "    </tr>\n",
       "  </tbody>\n",
       "</table>\n",
       "</div>"
      ],
      "text/plain": [
       "       y_pred  y_actual\n",
       "grade                  \n",
       "A      18.675    18.675\n",
       "B      29.335    29.335\n",
       "C      27.425    27.425\n",
       "D      15.465    15.465\n",
       "E       6.375     6.375\n",
       "F       2.140     2.140\n",
       "G       0.585     0.585"
      ]
     },
     "execution_count": 36,
     "metadata": {},
     "output_type": "execute_result"
    }
   ],
   "source": [
    "# Grades table\n",
    "y_test_grades = pd.DataFrame(list(zip(\n",
    "    # this is the loan grade\n",
    "    data_dict['test_data'][:,5]\n",
    "    # this is the predicted label\n",
    "    , your_model['y_pred_labels']\n",
    "    # this is the actual label\n",
    "    ,((data_dict['test_data'][:,11] == 'Charged Off') | (data_dict['test_data'][:,11] == 'Default')))))\n",
    "y_test_grades.columns = ['grade', 'y_pred', 'y_actual']\n",
    "\n",
    "print('\\n\\nloan percentages in each grade for testing data:')\n",
    "y_test_grades.groupby(by=['grade']).count()/20000*100"
   ]
  },
  {
   "cell_type": "code",
   "execution_count": null,
   "metadata": {
    "id": "b6EYdcGr-Tme",
    "outputId": "f317c006-a4b9-4609-d045-a4014245ea35"
   },
   "outputs": [
    {
     "name": "stdout",
     "output_type": "stream",
     "text": [
      "\n",
      "\n",
      "Empiracle percentage of loans that defaulted in each grade for test set:\n"
     ]
    },
    {
     "data": {
      "text/html": [
       "<div>\n",
       "<style scoped>\n",
       "    .dataframe tbody tr th:only-of-type {\n",
       "        vertical-align: middle;\n",
       "    }\n",
       "\n",
       "    .dataframe tbody tr th {\n",
       "        vertical-align: top;\n",
       "    }\n",
       "\n",
       "    .dataframe thead th {\n",
       "        text-align: right;\n",
       "    }\n",
       "</style>\n",
       "<table border=\"1\" class=\"dataframe\">\n",
       "  <thead>\n",
       "    <tr style=\"text-align: right;\">\n",
       "      <th></th>\n",
       "      <th>grade</th>\n",
       "      <th>Empiracle Pct Default</th>\n",
       "    </tr>\n",
       "  </thead>\n",
       "  <tbody>\n",
       "    <tr>\n",
       "      <th>0</th>\n",
       "      <td>A</td>\n",
       "      <td>6.586345</td>\n",
       "    </tr>\n",
       "    <tr>\n",
       "      <th>1</th>\n",
       "      <td>B</td>\n",
       "      <td>13.652633</td>\n",
       "    </tr>\n",
       "    <tr>\n",
       "      <th>2</th>\n",
       "      <td>C</td>\n",
       "      <td>22.370100</td>\n",
       "    </tr>\n",
       "    <tr>\n",
       "      <th>3</th>\n",
       "      <td>D</td>\n",
       "      <td>29.518267</td>\n",
       "    </tr>\n",
       "    <tr>\n",
       "      <th>4</th>\n",
       "      <td>E</td>\n",
       "      <td>36.078431</td>\n",
       "    </tr>\n",
       "    <tr>\n",
       "      <th>5</th>\n",
       "      <td>F</td>\n",
       "      <td>43.691589</td>\n",
       "    </tr>\n",
       "    <tr>\n",
       "      <th>6</th>\n",
       "      <td>G</td>\n",
       "      <td>37.606838</td>\n",
       "    </tr>\n",
       "  </tbody>\n",
       "</table>\n",
       "</div>"
      ],
      "text/plain": [
       "  grade  Empiracle Pct Default\n",
       "0     A               6.586345\n",
       "1     B              13.652633\n",
       "2     C              22.370100\n",
       "3     D              29.518267\n",
       "4     E              36.078431\n",
       "5     F              43.691589\n",
       "6     G              37.606838"
      ]
     },
     "execution_count": 37,
     "metadata": {},
     "output_type": "execute_result"
    }
   ],
   "source": [
    "print('\\n\\nEmpiracle percentage of loans that defaulted in each grade for test set:')\n",
    "empiracleDefault = pd.DataFrame(y_test_grades.groupby(by='grade').apply(lambda x : (x.y_actual == True).sum()*100/len(x)))\n",
    "empiracleDefault = empiracleDefault.reset_index()\n",
    "empiracleDefault = empiracleDefault.rename(columns={0:'Empiracle Pct Default'})\n",
    "empiracleDefault"
   ]
  },
  {
   "cell_type": "code",
   "execution_count": null,
   "metadata": {
    "id": "KLqQIoBc-Tmf",
    "outputId": "c6c0c1c6-2c05-46b6-c67f-6b0cf8419386"
   },
   "outputs": [
    {
     "name": "stdout",
     "output_type": "stream",
     "text": [
      "\n",
      "\n",
      "Predicted percentage of loans that defaulted in each grade for test set:\n"
     ]
    },
    {
     "data": {
      "text/html": [
       "<div>\n",
       "<style scoped>\n",
       "    .dataframe tbody tr th:only-of-type {\n",
       "        vertical-align: middle;\n",
       "    }\n",
       "\n",
       "    .dataframe tbody tr th {\n",
       "        vertical-align: top;\n",
       "    }\n",
       "\n",
       "    .dataframe thead th {\n",
       "        text-align: right;\n",
       "    }\n",
       "</style>\n",
       "<table border=\"1\" class=\"dataframe\">\n",
       "  <thead>\n",
       "    <tr style=\"text-align: right;\">\n",
       "      <th></th>\n",
       "      <th>grade</th>\n",
       "      <th>Predicted Pct Default</th>\n",
       "    </tr>\n",
       "  </thead>\n",
       "  <tbody>\n",
       "    <tr>\n",
       "      <th>0</th>\n",
       "      <td>A</td>\n",
       "      <td>0.000000</td>\n",
       "    </tr>\n",
       "    <tr>\n",
       "      <th>1</th>\n",
       "      <td>B</td>\n",
       "      <td>0.000000</td>\n",
       "    </tr>\n",
       "    <tr>\n",
       "      <th>2</th>\n",
       "      <td>C</td>\n",
       "      <td>1.257976</td>\n",
       "    </tr>\n",
       "    <tr>\n",
       "      <th>3</th>\n",
       "      <td>D</td>\n",
       "      <td>7.371484</td>\n",
       "    </tr>\n",
       "    <tr>\n",
       "      <th>4</th>\n",
       "      <td>E</td>\n",
       "      <td>16.392157</td>\n",
       "    </tr>\n",
       "    <tr>\n",
       "      <th>5</th>\n",
       "      <td>F</td>\n",
       "      <td>23.364486</td>\n",
       "    </tr>\n",
       "    <tr>\n",
       "      <th>6</th>\n",
       "      <td>G</td>\n",
       "      <td>30.769231</td>\n",
       "    </tr>\n",
       "  </tbody>\n",
       "</table>\n",
       "</div>"
      ],
      "text/plain": [
       "  grade  Predicted Pct Default\n",
       "0     A               0.000000\n",
       "1     B               0.000000\n",
       "2     C               1.257976\n",
       "3     D               7.371484\n",
       "4     E              16.392157\n",
       "5     F              23.364486\n",
       "6     G              30.769231"
      ]
     },
     "execution_count": 38,
     "metadata": {},
     "output_type": "execute_result"
    }
   ],
   "source": [
    "print('\\n\\nPredicted percentage of loans that defaulted in each grade for test set:')\n",
    "predictedDefault = pd.DataFrame(y_test_grades.groupby(by='grade').apply(lambda x : (x.y_pred == True).sum()*100/len(x)))\n",
    "predictedDefault = predictedDefault.reset_index()\n",
    "predictedDefault = predictedDefault.rename(columns={0:'Predicted Pct Default'})\n",
    "predictedDefault"
   ]
  },
  {
   "cell_type": "code",
   "execution_count": null,
   "metadata": {
    "id": "fCSl1q0c-Tmf",
    "outputId": "be9576ee-1469-4e5e-91fe-bd33472c69aa"
   },
   "outputs": [
    {
     "name": "stdout",
     "output_type": "stream",
     "text": [
      "\n",
      "\n",
      "Summary of Grade Analysis:\n"
     ]
    },
    {
     "data": {
      "text/html": [
       "<div>\n",
       "<style scoped>\n",
       "    .dataframe tbody tr th:only-of-type {\n",
       "        vertical-align: middle;\n",
       "    }\n",
       "\n",
       "    .dataframe tbody tr th {\n",
       "        vertical-align: top;\n",
       "    }\n",
       "\n",
       "    .dataframe thead th {\n",
       "        text-align: right;\n",
       "    }\n",
       "</style>\n",
       "<table border=\"1\" class=\"dataframe\">\n",
       "  <thead>\n",
       "    <tr style=\"text-align: right;\">\n",
       "      <th></th>\n",
       "      <th>grade</th>\n",
       "      <th>Empiracle Pct Default</th>\n",
       "      <th>Predicted Pct Default</th>\n",
       "    </tr>\n",
       "  </thead>\n",
       "  <tbody>\n",
       "    <tr>\n",
       "      <th>0</th>\n",
       "      <td>A</td>\n",
       "      <td>6.586345</td>\n",
       "      <td>0.000000</td>\n",
       "    </tr>\n",
       "    <tr>\n",
       "      <th>1</th>\n",
       "      <td>B</td>\n",
       "      <td>13.652633</td>\n",
       "      <td>0.000000</td>\n",
       "    </tr>\n",
       "    <tr>\n",
       "      <th>2</th>\n",
       "      <td>C</td>\n",
       "      <td>22.370100</td>\n",
       "      <td>1.257976</td>\n",
       "    </tr>\n",
       "    <tr>\n",
       "      <th>3</th>\n",
       "      <td>D</td>\n",
       "      <td>29.518267</td>\n",
       "      <td>7.371484</td>\n",
       "    </tr>\n",
       "    <tr>\n",
       "      <th>4</th>\n",
       "      <td>E</td>\n",
       "      <td>36.078431</td>\n",
       "      <td>16.392157</td>\n",
       "    </tr>\n",
       "    <tr>\n",
       "      <th>5</th>\n",
       "      <td>F</td>\n",
       "      <td>43.691589</td>\n",
       "      <td>23.364486</td>\n",
       "    </tr>\n",
       "    <tr>\n",
       "      <th>6</th>\n",
       "      <td>G</td>\n",
       "      <td>37.606838</td>\n",
       "      <td>30.769231</td>\n",
       "    </tr>\n",
       "  </tbody>\n",
       "</table>\n",
       "</div>"
      ],
      "text/plain": [
       "  grade  Empiracle Pct Default  Predicted Pct Default\n",
       "0     A               6.586345               0.000000\n",
       "1     B              13.652633               0.000000\n",
       "2     C              22.370100               1.257976\n",
       "3     D              29.518267               7.371484\n",
       "4     E              36.078431              16.392157\n",
       "5     F              43.691589              23.364486\n",
       "6     G              37.606838              30.769231"
      ]
     },
     "execution_count": 39,
     "metadata": {},
     "output_type": "execute_result"
    }
   ],
   "source": [
    "print('\\n\\nSummary of Grade Analysis:')\n",
    "\n",
    "summaryDefaults = pd.DataFrame()\n",
    "summaryDefaults = pd.merge(\n",
    "                            empiracleDefault,\n",
    "                            predictedDefault,\n",
    "                            how=\"inner\",\n",
    "                            on='grade',\n",
    "                            left_on=None,\n",
    "                            right_on=None,\n",
    "                            left_index=False,\n",
    "                            right_index=False,\n",
    "                            sort=True,\n",
    "                            suffixes=(\"_x\", \"_y\"),\n",
    "                            copy=True,\n",
    "                            indicator=False,\n",
    "                            validate=None,)\n",
    "\n",
    "summaryDefaults"
   ]
  },
  {
   "cell_type": "markdown",
   "metadata": {
    "id": "rGH1fyliszcP"
   },
   "source": [
    "## Time stability test of YOURMODEL"
   ]
  },
  {
   "cell_type": "code",
   "execution_count": null,
   "metadata": {
    "id": "jrJcA23RszcP",
    "outputId": "ac7866be-13fd-4c90-e475-0d0980ac40c0"
   },
   "outputs": [
    {
     "name": "stdout",
     "output_type": "stream",
     "text": [
      "=========================================================\n",
      "  Model: Random Forest (2010)\n",
      "=========================================================\n",
      "Fit time: 2.37 seconds\n",
      "Optimal parameters:\n",
      "{}\n",
      "\n",
      "Accuracy-maximizing threshold was: 0.2469472876711781\n",
      "Recall:  0.1274131274131274\n",
      "              precision    recall  f1-score   support\n",
      "\n",
      "  No default     0.8791    0.9437    0.9102      1741\n",
      "     Default     0.2519    0.1274    0.1692       259\n",
      "\n",
      "    accuracy                         0.8380      2000\n",
      "   macro avg     0.5655    0.5356    0.5397      2000\n",
      "weighted avg     0.7979    0.8380    0.8143      2000\n",
      "\n"
     ]
    },
    {
     "data": {
      "image/png": "[encoded data removed]",
      "text/plain": [
       "<Figure size 936x324 with 4 Axes>"
      ]
     },
     "metadata": {
      "needs_background": "light"
     },
     "output_type": "display_data"
    },
    {
     "name": "stdout",
     "output_type": "stream",
     "text": [
      "\n",
      "Similarity to LC grade ranking:  0.6359390445395932\n",
      "Brier score: 0.10851787168558623\n",
      "Were parameters on edge? : False\n",
      "Score variations around CV search grid : 0.0\n",
      "[0.87657143]\n",
      "=========================================================\n",
      "  Model: Random Forest (2016)\n",
      "=========================================================\n",
      "Fit time: 1.89 seconds\n",
      "Optimal parameters:\n",
      "{}\n",
      "\n",
      "Accuracy-maximizing threshold was: 0.3684070747240593\n",
      "Recall:  0.19790104947526238\n",
      "              precision    recall  f1-score   support\n",
      "\n",
      "  No default     0.8818    0.9208    0.9009      4333\n",
      "     Default     0.2779    0.1979    0.2312       667\n",
      "\n",
      "    accuracy                         0.8244      5000\n",
      "   macro avg     0.5798    0.5594    0.5660      5000\n",
      "weighted avg     0.8012    0.8244    0.8115      5000\n",
      "\n"
     ]
    },
    {
     "data": {
      "image/png": "[encoded data removed]",
      "text/plain": [
       "<Figure size 936x324 with 4 Axes>"
      ]
     },
     "metadata": {
      "needs_background": "light"
     },
     "output_type": "display_data"
    },
    {
     "name": "stdout",
     "output_type": "stream",
     "text": [
      "\n",
      "Similarity to LC grade ranking:  0.6665400147628532\n",
      "Brier score: 0.11970723499408527\n",
      "Were parameters on edge? : False\n",
      "Score variations around CV search grid : 0.0\n",
      "[0.7623]\n"
     ]
    },
    {
     "data": {
      "text/plain": [
       "{'model': RandomForestClassifier(max_depth=7, min_samples_leaf=2, min_samples_split=9,\n",
       "                        n_jobs=-1),\n",
       " 'y_pred_labels': array([False,  True, False, ..., False, False, False]),\n",
       " 'y_pred_probs': array([0.23790646, 0.45843559, 0.09849248, ..., 0.06147652, 0.34571771,\n",
       "        0.1759454 ])}"
      ]
     },
     "execution_count": 42,
     "metadata": {},
     "output_type": "execute_result"
    }
   ],
   "source": [
    "## Define the time window of your train and test data\n",
    "start_date_train_2010 = datetime.date(2010,1,1) \n",
    "end_date_train_2010 = datetime.date(2010,12,31)\n",
    "\n",
    "start_date_train_2016 = datetime.date(2016,1,1)\n",
    "end_date_train_2016 = datetime.date(2016,12,31)\n",
    "\n",
    "start_date_test = datetime.date(2017,1,1)\n",
    "end_date_test = datetime.date(2017,12,31)\n",
    "\n",
    "data_dict_test_2010 = prepare_data(date_range_train = (start_date_train_2010, end_date_train_2010), \n",
    "                         date_range_test = (start_date_test, end_date_test),\n",
    "                         n_samples_train = 7000, n_samples_test = 2000, feature_subset = your_features)\n",
    "data_dict_test_2016 = prepare_data(date_range_train = (start_date_train_2016, end_date_train_2016), \n",
    "                         date_range_test = (start_date_test, end_date_test),\n",
    "                         n_samples_train = 20000, n_samples_test = 5000, feature_subset = your_features)\n",
    "\n",
    "## Train and test YOURMODEL using this data\n",
    "fit_classification(your_model['model'], data_dict_test_2010, model_name = 'Random Forest (2010)')\n",
    "fit_classification(your_model['model'], data_dict_test_2016, model_name = 'Random Forest (2016)')"
   ]
  },
  {
   "cell_type": "markdown",
   "metadata": {
    "id": "wjhfehDqszcP"
   },
   "source": [
    "## Train and test YOURMODEL on the original data"
   ]
  },
  {
   "cell_type": "code",
   "execution_count": null,
   "metadata": {
    "id": "74pvMQ6K8Kxm"
   },
   "outputs": [],
   "source": [
    "# Import original original data and run through prepare_data & fit_classification\n",
    "original_data = pickle.load( open( \"original_data.pickle\", \"rb\" ) )"
   ]
  },
  {
   "cell_type": "code",
   "execution_count": null,
   "metadata": {
    "id": "nljCsCP48Kxm"
   },
   "outputs": [],
   "source": [
    "your_features = ['addr_state',\n",
    "    'annual_inc',\n",
    "    'application_type',\n",
    "    'delinq_2yrs',\n",
    "    'dti',\n",
    "    'earliest_cr_line',\n",
    "    'emp_length',\n",
    "    'emp_title',\n",
    "    'fico_range_high',\n",
    "    'fico_range_low',\n",
    "    'funded_amnt',\n",
    "    'funded_amnt_inv',\n",
    "    'grade',\n",
    "    'home_ownership',\n",
    "    'id',\n",
    "    'installment',\n",
    "    'int_rate',\n",
    "    'issue_d',\n",
    "    'last_fico_range_high',\n",
    "    'last_fico_range_low',\n",
    "    'last_pymnt_amnt',\n",
    "    'last_pymnt_d',\n",
    "    'loan_amnt',\n",
    "    'loan_status', \n",
    "    'open_acc',\n",
    "    'pub_rec',\n",
    "    'purpose',\n",
    "    'recoveries',\n",
    "    'revol_bal',\n",
    "    'revol_util',\n",
    "    'sub_grade',\n",
    "    'term',\n",
    "    'title',\n",
    "    'total_pymnt',\n",
    "    'verification_status',\n",
    "    'zip_code']\n",
    "\n",
    "float_cols = ['last_pymnt_amnt', 'last_fico_range_high', 'last_fico_range_low', 'installment', 'id', 'funded_amnt_inv'\n",
    "              , 'loan_amnt', 'funded_amnt', 'annual_inc', 'dti', 'delinq_2yrs', 'open_acc', 'pub_rec'\n",
    "              , 'fico_range_high', 'fico_range_low', 'revol_bal', 'total_pymnt', 'recoveries']\n",
    "cat_cols = ['zip_code', 'title', 'loan_status', 'sub_grade', 'emp_title', 'application_type', 'addr_state', 'term', 'grade', 'emp_length', 'home_ownership'\n",
    "            , 'verification_status', 'purpose'] \n",
    "perc_cols = ['int_rate', 'revol_util']\n",
    "date_cols = ['issue_d', 'earliest_cr_line', 'last_pymnt_d']\n",
    "\n",
    "continuous_features = ['last_pymnt_amnt', 'last_fico_range_high', 'last_fico_range_low', 'installment', 'id', 'funded_amnt_inv'\n",
    "              , 'loan_amnt', 'funded_amnt', 'annual_inc', 'dti', 'delinq_2yrs', 'open_acc', 'pub_rec'\n",
    "              , 'fico_range_high', 'fico_range_low', 'revol_bal', 'total_pymnt', 'recoveries', 'int_rate', 'revol_util']\n",
    "discrete_features = ['addr_state', 'term', 'grade', 'emp_length', 'home_ownership', 'verification_status', 'purpose'\n",
    "           , 'sub_grade'] # categorical features\n"
   ]
  },
  {
   "cell_type": "code",
   "execution_count": null,
   "metadata": {
    "id": "L0TO_IQp8Kxm"
   },
   "outputs": [],
   "source": [
    "# Reduce features\n",
    "continuous_features = list(set(continuous_features) - set(['cr_hist']))\n",
    "original_data = original_data[your_features]"
   ]
  },
  {
   "cell_type": "code",
   "execution_count": null,
   "metadata": {
    "id": "_oagm0oq8Kxm"
   },
   "outputs": [],
   "source": [
    "# Typecasting \n",
    "\n",
    "# FLOATS #\n",
    "\n",
    "for i in float_cols:\n",
    "    original_data[i] = pd.to_numeric(original_data[i], downcast='float') # typecast float columns\n",
    "    \n",
    "# PERCENT #\n",
    "\n",
    "def clean_perc(x):\n",
    "    if pd.isnull(x):\n",
    "        return np.nan\n",
    "    else:\n",
    "        return float(x.strip()[:-1])\n",
    "\n",
    "for i in perc_cols:\n",
    "    original_data[i] = [clean_perc(x) for x in original_data[i]] # apply clean_perc to percentage columns\n",
    "    \n",
    "# DATES #\n",
    "\n",
    "def clean_date(x):\n",
    "    if pd.isnull(x):\n",
    "        return None\n",
    "    else:\n",
    "        return datetime.datetime.strptime(x, \"%b-%Y\").date()\n",
    "\n",
    "for i in date_cols:\n",
    "    original_data[i] = [clean_date(x) for x in original_data[i]] # typecast date columns to datatime using clean_date\n",
    "    \n",
    "# CATEGORICAL #\n",
    "# null and empty values are already set to NaN. No filling needed. \n",
    "\n",
    "for i in cat_cols:\n",
    "    original_data[i] = original_data[i].fillna(\"None\") "
   ]
  },
  {
   "cell_type": "code",
   "execution_count": null,
   "metadata": {
    "id": "S6_qeb1p8Kxm"
   },
   "outputs": [],
   "source": [
    "# Create outcome and training columns\n",
    "original_data[\"outcome\"] = ((original_data['loan_status'] == 'Charged Off') | (original_data['loan_status'] == 'Default'))\n",
    "original_indices = np.random.choice(range(len(original_data)), int(0.7*len(original_data)), replace=False)\n",
    "original_data['train'] = False\n",
    "original_data['train'].iloc[list(original_indices)] = True\n",
    "\n",
    "# Create continuous and discrete datasets\n",
    "X_original_continuous = original_data[continuous_features].to_numpy()\n",
    "X_original_discrete = pd.get_dummies(original_data[discrete_features], dummy_na = True, prefix_sep = \"::\", drop_first = True)\n",
    "original_discrete_features_dummies = X_original_discrete.columns.tolist()\n",
    "X_original_discrete = X_original_discrete.values"
   ]
  },
  {
   "cell_type": "code",
   "execution_count": null,
   "metadata": {
    "id": "o_0oYmBN8Kxm"
   },
   "outputs": [],
   "source": [
    "# Impute missing variables as 0\n",
    "X_original_continuous = np.nan_to_num(X_original_continuous)"
   ]
  },
  {
   "cell_type": "code",
   "execution_count": null,
   "metadata": {
    "id": "w1kNfPa18Kxn"
   },
   "outputs": [],
   "source": [
    "# Drop data leakage columns\n",
    "original_data = original_data.drop(columns=['loan_status', 'total_pymnt', 'last_pymnt_d', 'id', 'recoveries'])"
   ]
  },
  {
   "cell_type": "code",
   "execution_count": null,
   "metadata": {
    "id": "R7IHqtZs8Kxn"
   },
   "outputs": [],
   "source": [
    "def original_fit_classification(model, data_dict,\n",
    "                          cv_parameters = {},\n",
    "                          model_name = None,\n",
    "                          random_state = default_seed,\n",
    "                          output_to_file = True,\n",
    "                          print_to_screen = True):\n",
    "    '''\n",
    "    This function will fit a classification model to data and print various evaluation\n",
    "    measures. It expects the following parameters\n",
    "      - model: an sklearn model object\n",
    "      - data_dict: the dictionary containing both training and testing data;\n",
    "                   returned by the prepare_data function\n",
    "      - cv_parameters: a dictionary of parameters that should be optimized\n",
    "                       over using cross-validation. Specifically, each named\n",
    "                       entry in the dictionary should correspond to a parameter,\n",
    "                       and each element should be a list containing the values\n",
    "                       to optimize over\n",
    "      - model_name: the name of the model being fit, for printouts\n",
    "      - random_state: the random seed to use\n",
    "      - output_to_file: if the results will be saved to the output file\n",
    "      - print_to_screen: if the results will be printed on screen\n",
    "    \n",
    "    If the model provided does not have a predict_proba function, we will\n",
    "    simply print accuracy diagnostics and return.\n",
    "    \n",
    "    If the model provided does have a predict_proba function, we first\n",
    "    figure out the optimal threshold that maximizes the accuracy and\n",
    "    print out accuracy diagnostics. We then print an ROC curve, sensitivity/\n",
    "    specificity curve, and calibration curve.\n",
    "    \n",
    "    This function returns a dictionary with the following entries\n",
    "      - model: the best fitted model\n",
    "      - y_pred: predictions for the test set\n",
    "      - y_pred_probs: probability predictions for the test set, if the model\n",
    "                      supports them\n",
    "      - y_pred_score: prediction scores for the test set, if the model does not \n",
    "                      output probabilities.\n",
    "    '''\n",
    "        \n",
    "    np.random.seed(random_state)\n",
    "    \n",
    "    # --------------------------\n",
    "    #   Step 1 - Load the data\n",
    "    # --------------------------\n",
    "    X_train = data_dict['X_train']\n",
    "    y_train = data_dict['y_train']\n",
    "    \n",
    "    X_test = data_dict['X_test']\n",
    "    y_test = data_dict['y_test']\n",
    "    \n",
    "    filter_train = data_dict['train_set']    \n",
    "  \n",
    "    # --------------------------\n",
    "    #   Step 2 - Fit the model\n",
    "    # --------------------------\n",
    "\n",
    "    cv_model = GridSearchCV(model, cv_parameters)\n",
    "    \n",
    "    start_time = time.time()\n",
    "    cv_model.fit(X_train, y_train)\n",
    "    end_time = time.time()\n",
    "    \n",
    "    best_model = cv_model.best_estimator_\n",
    "    \n",
    "    if print_to_screen:\n",
    "\n",
    "        if model_name != None:\n",
    "            print(\"=========================================================\")\n",
    "            print(\"  Model: \" + model_name)\n",
    "            print(\"=========================================================\")\n",
    "\n",
    "        print(\"Fit time: \" + str(round(end_time - start_time, 2)) + \" seconds\")\n",
    "        print(\"Optimal parameters:\")\n",
    "        print(cv_model.best_params_)\n",
    "        print(\"\")\n",
    "    \n",
    "    # -------------------------------\n",
    "    #   Step 3 - Evaluate the model\n",
    "    # -------------------------------\n",
    "    \n",
    "    # If possible, make probability predictions\n",
    "    try:\n",
    "        y_pred_probs = best_model.predict_proba(X_test)[:,1]\n",
    "        fpr, tpr, thresholds = roc_curve(y_test, y_pred_probs)\n",
    "        \n",
    "        probs_predicted = True\n",
    "    except:\n",
    "        probs_predicted = False\n",
    "    \n",
    "    # Make predictions; if we were able to find probabilities, use\n",
    "    # the threshold that maximizes the accuracy in the training set.\n",
    "    # If not, just use the learner's predict function\n",
    "    if probs_predicted:\n",
    "        y_train_pred_probs = best_model.predict_proba(X_train)[:,1]\n",
    "        fpr_train, tpr_train, thresholds_train = roc_curve(y_train, y_train_pred_probs)\n",
    "        \n",
    "        true_pos_train = tpr_train*(y_train.sum())\n",
    "        true_neg_train = (1 - fpr_train) *(1-y_train).sum()\n",
    "        \n",
    "        best_threshold_index = np.argmax(true_pos_train + true_neg_train)\n",
    "        best_threshold = 1 if best_threshold_index == 0 else thresholds_train[ best_threshold_index ]\n",
    "        \n",
    "        if print_to_screen:\n",
    "            print(\"Accuracy-maximizing threshold was: \" + str(best_threshold))\n",
    "        \n",
    "        y_pred = (y_pred_probs > best_threshold)\n",
    "    else:\n",
    "        y_pred = best_model.predict(X_test)\n",
    "    \n",
    "    if print_to_screen:\n",
    "        print(\"Recall: \", recall_score(y_test, y_pred))\n",
    "        print(classification_report(y_test, y_pred, target_names =['No default', 'Default'], digits = 4))\n",
    "\n",
    "    if print_to_screen:\n",
    "        if probs_predicted:        \n",
    "            plt.figure(figsize = (13, 4.5))\n",
    "            plt.subplot(2, 2, 1)\n",
    "\n",
    "            plt.title(\"ROC Curve (AUC = %0.2f)\"% roc_auc_score(y_test, y_pred_probs))\n",
    "            plt.plot(fpr, tpr, 'b')\n",
    "            plt.plot([0,1],[0,1],'r--')\n",
    "            plt.xlim([0,1]); plt.ylim([0,1])\n",
    "            plt.ylabel('True Positive Rate')\n",
    "            plt.xlabel('False Positive Rate')\n",
    "\n",
    "            plt.subplot(2, 2, 3)\n",
    "\n",
    "            plt.plot(thresholds, tpr, 'b', label = 'Sensitivity')\n",
    "            plt.plot(thresholds, 1 -fpr, 'r', label = 'Specificity')\n",
    "            plt.legend(loc = 'lower right')\n",
    "            plt.xlim([0,1]); plt.ylim([0,1])\n",
    "            plt.xlabel('Threshold')\n",
    "\n",
    "            plt.subplot(2, 2, 2)\n",
    "\n",
    "            fp_0, mpv_0 = calibration_curve(y_test, y_pred_probs, n_bins = 10)\n",
    "            plt.plot([0,1], [0,1], 'k:', label='Perfectly calibrated')\n",
    "            plt.plot(mpv_0, fp_0, 's-')\n",
    "            plt.ylabel('Fraction of Positives')\n",
    "            plt.xlim([0,1]); plt.ylim([0,1])\n",
    "            plt.legend(loc ='upper left')\n",
    "            \n",
    "            plt.subplot(2, 2, 4)\n",
    "            plt.hist(y_pred_probs, range=(0, 1), bins=10, histtype=\"step\", lw=2)\n",
    "            plt.xlim([0,1]); plt.ylim([0,20000])\n",
    "            plt.xlabel('Mean Predicted Probability')\n",
    "            plt.ylabel('Count')\n",
    "            \n",
    "            #plt.tight_layout()\n",
    "            plt.show()\n",
    "        \n",
    "    # Additional Score Check\n",
    "    if probs_predicted:\n",
    "        y_train_score = y_train_pred_probs\n",
    "    else:\n",
    "        y_train_score = best_model.decision_function(X_train)\n",
    "        \n",
    "    tau, p_value = kendalltau(y_train_score, original_data.grade[filter_train]) ## Call original not data\n",
    "    if print_to_screen:\n",
    "        print(\"\")\n",
    "        print(\"Similarity to LC grade ranking: \", tau)\n",
    "    \n",
    "    if probs_predicted:\n",
    "        brier_score = brier_score_loss(y_test, y_pred_probs)\n",
    "        if print_to_screen:\n",
    "            print(\"Brier score:\", brier_score)\n",
    "    \n",
    "    # Return the model predictions, and the\n",
    "    # test set\n",
    "    # -------------------------------------\n",
    "    out = {'model':best_model, 'y_pred_labels':y_pred}\n",
    "    \n",
    "    if probs_predicted:\n",
    "        out.update({'y_pred_probs':y_pred_probs})\n",
    "    else:\n",
    "        y_pred_score = best_model.decision_function(X_test)\n",
    "        out.update({'y_pred_score':y_pred_score})\n",
    "        \n",
    "    # Output results to file\n",
    "    # ----------------------\n",
    "    if probs_predicted and output_to_file:\n",
    "        # Check whether any of the CV parameters are on the edge of\n",
    "        # the search space\n",
    "        opt_params_on_edge = find_opt_params_on_edge(cv_model)\n",
    "        dump_to_output(model_name + \"::search_on_edge\", opt_params_on_edge)\n",
    "        if print_to_screen:\n",
    "            print(\"Were parameters on edge? : \" + str(opt_params_on_edge))\n",
    "        \n",
    "        # Find out how different the scores are for the different values\n",
    "        # tested for by cross-validation. If they're not too different, then\n",
    "        # even if the parameters are off the edge of the search grid, we should\n",
    "        # be ok\n",
    "        score_variation = find_score_variation(cv_model)\n",
    "        dump_to_output(model_name + \"::score_variation\", score_variation)\n",
    "        if print_to_screen:\n",
    "            print(\"Score variations around CV search grid : \" + str(score_variation))\n",
    "        \n",
    "        # Print out all the scores\n",
    "        dump_to_output(model_name + \"::all_cv_scores\", str(cv_model.cv_results_['mean_test_score']))\n",
    "        if print_to_screen:\n",
    "            print( str(cv_model.cv_results_['mean_test_score']) )\n",
    "        \n",
    "        # Dump the AUC to file\n",
    "        dump_to_output(model_name + \"::roc_auc\", roc_auc_score(y_test, y_pred_probs) )\n",
    "        \n",
    "    return out"
   ]
  },
  {
   "cell_type": "code",
   "execution_count": null,
   "metadata": {
    "id": "M1UxDDJ58Kxn",
    "outputId": "7a96db11-43dc-40b0-cecb-69a35fb75719"
   },
   "outputs": [
    {
     "name": "stdout",
     "output_type": "stream",
     "text": [
      "=========================================================\n",
      "  Model: Random Forest (Original Data)\n",
      "=========================================================\n",
      "Fit time: 5.33 seconds\n",
      "Optimal parameters:\n",
      "{}\n",
      "\n",
      "Accuracy-maximizing threshold was: 0.4837927710450953\n",
      "Recall:  0.6244158878504673\n",
      "              precision    recall  f1-score   support\n",
      "\n",
      "  No default     0.9655    0.9845    0.9749     18288\n",
      "     Default     0.7901    0.6244    0.6976      1712\n",
      "\n",
      "    accuracy                         0.9536     20000\n",
      "   macro avg     0.8778    0.8044    0.8362     20000\n",
      "weighted avg     0.9505    0.9536    0.9512     20000\n",
      "\n"
     ]
    },
    {
     "data": {
      "image/png": "[encoded data removed]",
      "text/plain": [
       "<Figure size 936x324 with 4 Axes>"
      ]
     },
     "metadata": {
      "needs_background": "light"
     },
     "output_type": "display_data"
    },
    {
     "name": "stdout",
     "output_type": "stream",
     "text": [
      "\n",
      "Similarity to LC grade ranking:  0.3180748874544905\n",
      "Brier score: 0.03650054846948019\n",
      "Were parameters on edge? : False\n",
      "Score variations around CV search grid : 0.0\n",
      "[0.92176667]\n"
     ]
    },
    {
     "data": {
      "text/plain": [
       "{'model': RandomForestClassifier(max_depth=7, min_samples_leaf=2, min_samples_split=9,\n",
       "                        n_jobs=-1),\n",
       " 'y_pred_labels': array([False, False, False, ..., False, False, False]),\n",
       " 'y_pred_probs': array([0.07574872, 0.32812928, 0.04752843, ..., 0.01620839, 0.01444367,\n",
       "        0.01285873])}"
      ]
     },
     "execution_count": 57,
     "metadata": {},
     "output_type": "execute_result"
    }
   ],
   "source": [
    "original_X = np.concatenate( (X_original_continuous, X_original_discrete), axis = 1 )\n",
    "original_y = original_data.outcome.to_numpy()\n",
    "original_train = original_data.train.to_numpy()\n",
    "\n",
    "original_data_dict = prepare_data_for_n_test_train_splits(original_data,\n",
    "                    original_discrete_features_dummies,\n",
    "                    original_X,\n",
    "                    original_y,\n",
    "                    original_train,\n",
    "                    feature_subset = your_features)\n",
    "original_fit_classification(your_model['model'], original_data_dict, model_name = 'Random Forest (Original Data)')"
   ]
  },
  {
   "cell_type": "markdown",
   "metadata": {
    "id": "cX91YJKJszcP"
   },
   "source": [
    "## Test regression models"
   ]
  },
  {
   "cell_type": "code",
   "execution_count": 16,
   "metadata": {
    "id": "W67crZOHszcP"
   },
   "outputs": [],
   "source": [
    "def fit_regression(model, data_dict,\n",
    "                      cv_parameters = {},\n",
    "                      separate = False, \n",
    "                      model_name = None,\n",
    "                      random_state = default_seed,\n",
    "                      output_to_file = True,\n",
    "                      print_to_screen = True):\n",
    "    '''\n",
    "    This function will fit a regression model to data and print various evaluation\n",
    "    measures. It expects the following parameters\n",
    "      - model: an sklearn model object\n",
    "      - data_dict: the dictionary containing both training and testing data;\n",
    "                   returned by the prepare_data function\n",
    "      - separate: a Boolean variable indicating whether we fit models for \n",
    "                  defaulted and non-defaulted loans separately\n",
    "      - cv_parameters: a dictionary of parameters that should be optimized\n",
    "                       over using cross-validation. Specifically, each named\n",
    "                       entry in the dictionary should correspond to a parameter,\n",
    "                       and each element should be a list containing the values\n",
    "                       to optimize over      \n",
    "      - model_name: the name of the model being fit, for printouts\n",
    "      - random_state: the random seed to use\n",
    "      - output_to_file: if the results will be saved to the output file\n",
    "      - print_to_screen: if the results will be printed on screen\n",
    "    \n",
    "    This function returns a dictionary FOR EACH RETURN DEFINITION with the following entries\n",
    "      - model: the best fitted model\n",
    "      - predicted_return: prediction result based on the test set\n",
    "      - predicted_regular_return: prediction result for non-defaulted loans (valid if separate == True)\n",
    "      - predicted_default_return: prediction result for defaulted loans (valid if separate == True)\n",
    "      - r2_scores: the testing r2_score(s) for the best fitted model\n",
    "    '''\n",
    "    \n",
    "    np.random.seed(random_state)\n",
    "    \n",
    "    # --------------------------\n",
    "    #   Step 1 - Load the data\n",
    "    # --------------------------\n",
    "    \n",
    "    col_list = ['ret_PESS', 'ret_OPT', 'ret_INTa', 'ret_INTb']\n",
    "    \n",
    "    X_train = data_dict['X_train']\n",
    "    filter_train = data_dict['train_set']  \n",
    "\n",
    "    X_test = data_dict['X_test']\n",
    "    filter_test = data_dict['test_set']\n",
    "    out = {}\n",
    "    \n",
    "    for ret_col in col_list:\n",
    "        \n",
    "        y_train = data.loc[filter_train, ret_col].to_numpy()\n",
    "        y_test = data.loc[filter_test, ret_col].to_numpy()\n",
    "\n",
    "        # --------------------------\n",
    "        #   Step 2 - Fit the model\n",
    "        # --------------------------\n",
    "\n",
    "        if separate:\n",
    "            outcome_train = data.loc[filter_train, 'outcome']\n",
    "            outcome_test = data.loc[filter_test, 'outcome']\n",
    "\n",
    "            # Train two separate regressors for defaulted and non-defaulted loans\n",
    "            X_train_0 = X_train[outcome_train == False]\n",
    "            y_train_0 = y_train[outcome_train == False]\n",
    "            X_test_0 = X_test[outcome_test == False]\n",
    "            y_test_0 = y_test[outcome_test == False]\n",
    "\n",
    "            X_train_1 = X_train[outcome_train == True]\n",
    "            y_train_1 = y_train[outcome_train == True]\n",
    "            X_test_1 = X_test[outcome_test == True]\n",
    "            y_test_1 = y_test[outcome_test == True]\n",
    "\n",
    "            cv_model_0 = GridSearchCV(model, cv_parameters, scoring='r2')\n",
    "            cv_model_1 = GridSearchCV(model, cv_parameters, scoring='r2')\n",
    "\n",
    "            start_time = time.time()\n",
    "            cv_model_0.fit(X_train_0, y_train_0)\n",
    "            cv_model_1.fit(X_train_1, y_train_1)\n",
    "            end_time = time.time()\n",
    "\n",
    "            best_model_0 = cv_model_0.best_estimator_\n",
    "            best_model_1 = cv_model_1.best_estimator_\n",
    "            \n",
    "            if print_to_screen:\n",
    "\n",
    "                if model_name != None:\n",
    "                    print(\"=========================================================\")\n",
    "                    print(\"  Model: \" + model_name + \"  Return column: \" + ret_col)\n",
    "                    print(\"=========================================================\")\n",
    "\n",
    "                print(\"Fit time: \" + str(round(end_time - start_time, 2)) + \" seconds\")\n",
    "                print(\"Optimal parameters:\")\n",
    "                print(\"model_0:\",cv_model_0.best_params_, \"model_1\",cv_model_1.best_params_)\n",
    "\n",
    "            predicted_regular_return = best_model_0.predict(X_test)\n",
    "            predicted_default_return = best_model_1.predict(X_test)\n",
    "            \n",
    "            if print_to_screen:\n",
    "                print(\"\")\n",
    "                print(\"Testing r2 scores:\")\n",
    "            # Here we use different testing set to report the performance\n",
    "            test_scores = {'model_0':r2_score(y_test_0,best_model_0.predict(X_test_0)),\n",
    "                              'model_1':r2_score(y_test_1,best_model_1.predict(X_test_1))}\n",
    "            if print_to_screen:\n",
    "                print(\"model_0:\", test_scores['model_0'])\n",
    "                print(\"model_1:\", test_scores['model_1'])\n",
    "\n",
    "            cv_objects = {'model_0':cv_model_0, 'model_1':cv_model_1}\n",
    "            out[ret_col] = { 'model_0':best_model_0, 'model_1':best_model_1, 'predicted_regular_return':predicted_regular_return,\n",
    "                      'predicted_default_return':predicted_default_return,'r2_scores':test_scores }\n",
    "\n",
    "        else:\n",
    "            cv_model = GridSearchCV(model, cv_parameters, scoring='r2')\n",
    "\n",
    "            start_time = time.time()\n",
    "            cv_model.fit(X_train, y_train)\n",
    "            end_time = time.time()\n",
    "\n",
    "            best_model = cv_model.best_estimator_\n",
    "            \n",
    "            if print_to_screen:\n",
    "                if model_name != None:\n",
    "                    print(\"=========================================================\")\n",
    "                    print(\"  Model: \" + model_name + \"  Return column: \" + ret_col)\n",
    "                    print(\"=========================================================\")\n",
    "\n",
    "                print(\"Fit time: \" + str(round(end_time - start_time, 2)) + \" seconds\")\n",
    "                print(\"Optimal parameters:\")\n",
    "                print(cv_model.best_params_)\n",
    "\n",
    "            predicted_return = best_model.predict(X_test)\n",
    "            test_scores = {'model':r2_score(y_test,predicted_return)}\n",
    "            if print_to_screen:\n",
    "                print(\"\")\n",
    "                print(\"Testing r2 score:\", test_scores['model'])\n",
    "\n",
    "            cv_objects = {'model':cv_model}\n",
    "            out[ret_col] = {'model':best_model, 'predicted_return':predicted_return, 'r2_scores':r2_score(y_test,predicted_return)}\n",
    "\n",
    "        # Output the results to a file\n",
    "        if output_to_file:\n",
    "            for i in cv_objects:\n",
    "                # Check whether any of the CV parameters are on the edge of\n",
    "                # the search space\n",
    "                opt_params_on_edge = find_opt_params_on_edge(cv_objects[i])\n",
    "                dump_to_output(model_name + \"::\" + ret_col + \"::search_on_edge\", opt_params_on_edge)\n",
    "                if print_to_screen:\n",
    "                    print(\"Were parameters on edge (\" + i + \") : \" + str(opt_params_on_edge))\n",
    "\n",
    "                # Find out how different the scores are for the different values\n",
    "                # tested for by cross-validation. If they're not too different, then\n",
    "                # even if the parameters are off the edge of the search grid, we should\n",
    "                # be ok\n",
    "                score_variation = find_score_variation(cv_objects[i])\n",
    "                dump_to_output(model_name + \"::\" + ret_col + \"::score_variation\", score_variation)\n",
    "                if print_to_screen:\n",
    "                    print(\"Score variations around CV search grid (\" + i + \") : \" + str(score_variation))\n",
    "\n",
    "                # Print out all the scores\n",
    "                dump_to_output(model_name + \"::all_cv_scores\", str(cv_objects[i].cv_results_['mean_test_score']))\n",
    "                if print_to_screen:\n",
    "                    print(\"All test scores : \" + str(cv_objects[i].cv_results_['mean_test_score']) )\n",
    "\n",
    "                # Dump the AUC to file\n",
    "                dump_to_output( model_name + \"::\" + ret_col + \"::r2\", test_scores[i] )\n",
    "\n",
    "    return out"
   ]
  },
  {
   "cell_type": "markdown",
   "metadata": {
    "id": "xAhlbBgaszcQ"
   },
   "source": [
    "### $l_1$ regularized linear regression"
   ]
  },
  {
   "cell_type": "code",
   "execution_count": 27,
   "metadata": {
    "id": "hPhpcADmszcQ",
    "outputId": "bb0c6876-b152-40b6-e44b-9cb4541ec4e7"
   },
   "outputs": [
    {
     "name": "stdout",
     "output_type": "stream",
     "text": [
      "=========================================================\n",
      "  Model: L1 Regularization  Return column: ret_PESS\n",
      "=========================================================\n",
      "Fit time: 10.29 seconds\n",
      "Optimal parameters:\n",
      "{'alpha': 0.001}\n",
      "\n",
      "Testing r2 score: 0.012249729062838166\n",
      "Were parameters on edge (model) : False\n",
      "Score variations around CV search grid (model) : -9.480315540855411\n",
      "All test scores : [-0.10172411 -0.10172407 -0.10172084 -0.10046612 -0.10999063 -0.10999063\n",
      " -0.10999063 -0.10999063 -0.10999063 -0.10999063 -0.10999063 -0.10999063\n",
      " -0.10999063 -0.10999063 -0.10999063 -0.10999063]\n",
      "=========================================================\n",
      "  Model: L1 Regularization  Return column: ret_OPT\n",
      "=========================================================\n",
      "Fit time: 11.77 seconds\n",
      "Optimal parameters:\n",
      "{'alpha': 1e-08}\n",
      "\n",
      "Testing r2 score: 0.02983268479793766\n",
      "Were parameters on edge (model) : False\n",
      "Score variations around CV search grid (model) : 171.08745117957181\n",
      "All test scores : [ 0.01613392  0.01613393  0.01613457  0.0043736  -0.01146966 -0.01146966\n",
      " -0.01146966 -0.01146966 -0.01146966 -0.01146966 -0.01146966 -0.01146966\n",
      " -0.01146966 -0.01146966 -0.01146966 -0.01146966]\n",
      "=========================================================\n",
      "  Model: L1 Regularization  Return column: ret_INTa\n",
      "=========================================================\n",
      "Fit time: 14.72 seconds\n",
      "Optimal parameters:\n",
      "{'alpha': 0.001}\n",
      "\n",
      "Testing r2 score: 0.023592145836888512\n",
      "Were parameters on edge (model) : False\n",
      "Score variations around CV search grid (model) : 168.40000708548047\n",
      "All test scores : [ 0.00451368  0.00451369  0.0045145   0.00916034 -0.00626567 -0.00626567\n",
      " -0.00626567 -0.00626567 -0.00626567 -0.00626567 -0.00626567 -0.00626567\n",
      " -0.00626567 -0.00626567 -0.00626567 -0.00626567]\n",
      "=========================================================\n",
      "  Model: L1 Regularization  Return column: ret_INTb\n",
      "=========================================================\n",
      "Fit time: 14.49 seconds\n",
      "Optimal parameters:\n",
      "{'alpha': 0.001}\n",
      "\n",
      "Testing r2 score: 0.03048856443540715\n",
      "Were parameters on edge (model) : False\n",
      "Score variations around CV search grid (model) : -84.53913402029855\n",
      "All test scores : [-0.02446378 -0.02446378 -0.02446345 -0.0208218  -0.03061037 -0.03842436\n",
      " -0.03842436 -0.03842436 -0.03842436 -0.03842436 -0.03842436 -0.03842436\n",
      " -0.03842436 -0.03842436 -0.03842436 -0.03842436]\n"
     ]
    }
   ],
   "source": [
    "## First, trying l1 regularized linear regression with hyper-parameters\n",
    "# says there are continuous features in the dataset still \n",
    "\n",
    "cv_parameters = {'alpha' : [1e-15,1e-10,1e-8,1e-3,1e-2,1,5,10,20,30,35,40,45,50,55,100]}\n",
    "\n",
    "reg_lasso = fit_regression(model = linear_model.Lasso(), data_dict = data_dict, cv_parameters=cv_parameters, model_name='L1 Regularization')"
   ]
  },
  {
   "cell_type": "markdown",
   "metadata": {
    "id": "jKJKU2CnszcQ"
   },
   "source": [
    "### $l_2$ regularized linear regressor"
   ]
  },
  {
   "cell_type": "code",
   "execution_count": 22,
   "metadata": {
    "id": "XdOI-DOcszcQ",
    "outputId": "60279a7f-1b82-4c49-a052-05fe82da5487"
   },
   "outputs": [
    {
     "name": "stdout",
     "output_type": "stream",
     "text": [
      "=========================================================\n",
      "  Model: L2 Regularization  Return column: ret_PESS\n",
      "=========================================================\n",
      "Fit time: 1.15 seconds\n",
      "Optimal parameters:\n",
      "{'alpha': 300}\n",
      "\n",
      "Testing r2 score: 0.02571756933959113\n",
      "Were parameters on edge (model) : False\n",
      "Score variations around CV search grid (model) : -330.81093851998855\n",
      "All test scores : [-0.39191395 -0.1018468  -0.10184683 -0.10183336 -0.10182651 -0.10119972\n",
      " -0.09934751 -0.09777991 -0.09581436 -0.09461547 -0.09417451 -0.09380497\n",
      " -0.09349099 -0.09322112 -0.09298694 -0.09177601 -0.09103581 -0.09097122\n",
      " -0.09109506 -0.09128673 -0.09150344 -0.09237809 -0.09258133 -0.09277694\n",
      " -0.09296508 -0.09314607 -0.09332028]\n",
      "=========================================================\n",
      "  Model: L2 Regularization  Return column: ret_OPT\n",
      "=========================================================\n",
      "Fit time: 1.14 seconds\n",
      "Optimal parameters:\n",
      "{'alpha': 5}\n",
      "\n",
      "Testing r2 score: 0.029747847949786133\n",
      "Were parameters on edge (model) : False\n",
      "Score variations around CV search grid (model) : 1527.2281177496648\n",
      "All test scores : [-0.23306465  0.01599972  0.01599978  0.01601045  0.01601404  0.01618197\n",
      "  0.01632988  0.01630633  0.01609227  0.01584428  0.01572507  0.01561083\n",
      "  0.01550159  0.01539701  0.01529665  0.01451739  0.01310914  0.01190692\n",
      "  0.01086613  0.00996316  0.00917558  0.00683498  0.00639179  0.00598882\n",
      "  0.00562042  0.00528194  0.00496953]\n",
      "=========================================================\n",
      "  Model: L2 Regularization  Return column: ret_INTa\n",
      "=========================================================\n",
      "Fit time: 1.12 seconds\n",
      "Optimal parameters:\n",
      "{'alpha': 1000}\n",
      "\n",
      "Testing r2 score: 0.024746524661957148\n",
      "Were parameters on edge (model) : False\n",
      "Score variations around CV search grid (model) : 3602.2490873933807\n",
      "All test scores : [-0.26086317  0.00431273  0.00431282  0.00431991  0.00432534  0.00459951\n",
      "  0.00500246  0.00530059  0.00568062  0.0059341   0.00603514  0.00612433\n",
      "  0.00620402  0.00627592  0.0063413   0.00674567  0.00713759  0.00729137\n",
      "  0.00736307  0.00740061  0.00742207  0.00744845  0.00744733  0.0074439\n",
      "  0.00743828  0.00743053  0.00742072]\n",
      "=========================================================\n",
      "  Model: L2 Regularization  Return column: ret_INTb\n",
      "=========================================================\n",
      "Fit time: 1.14 seconds\n",
      "Optimal parameters:\n",
      "{'alpha': 200}\n",
      "\n",
      "Testing r2 score: 0.03207536058405436\n",
      "Were parameters on edge (model) : False\n",
      "Score variations around CV search grid (model) : -987.8301180787018\n",
      "All test scores : [-0.22349473 -0.02467998 -0.02467969 -0.02466802 -0.02466207 -0.02431317\n",
      " -0.02359285 -0.02298    -0.02220754 -0.02173615 -0.02156308 -0.02141841\n",
      " -0.02129597 -0.02119132 -0.02110117 -0.02066404 -0.020545   -0.02071351\n",
      " -0.0209349  -0.02115456 -0.02135825 -0.02200481 -0.0221343  -0.02225479\n",
      " -0.02236774 -0.02247434 -0.02257559]\n"
     ]
    }
   ],
   "source": [
    "## trying l2 regularized linear regression with hyper-parameters\n",
    "cv_parameters = {'alpha' : [1e-15,1e-10,1e-8,1e-3,1e-2,1,5,10,20,30,35,40,45,50,55,100, 200, 300, 400, 500, 600, 1000, 1100, 1200, 1300, 1400, 1500]}\n",
    "\n",
    "reg_ridge= fit_regression(model = linear_model.Ridge(), data_dict = data_dict, cv_parameters=cv_parameters, model_name='L2 Regularization')"
   ]
  },
  {
   "cell_type": "markdown",
   "metadata": {
    "id": "5MnV72LQ-Tmg"
   },
   "source": []
  },
  {
   "cell_type": "markdown",
   "metadata": {
    "id": "7l96DgYmszcQ"
   },
   "source": [
    "### Multi-layer perceptron regressor"
   ]
  },
  {
   "cell_type": "code",
   "execution_count": 17,
   "metadata": {
    "id": "hQ7PpfWwszcQ",
    "outputId": "2743034c-5ea0-4c2e-ffac-e48d93be961d"
   },
   "outputs": [
    {
     "name": "stdout",
     "output_type": "stream",
     "text": [
      "=========================================================\n",
      "  Model: Multi-Layer Perceptron Regressor  Return column: ret_PESS\n",
      "=========================================================\n",
      "Fit time: 2459.63 seconds\n",
      "Optimal parameters:\n",
      "{'activation': 'tanh', 'alpha': 0.001, 'hidden_layer_sizes': (10, 30, 10), 'learning_rate': 'constant', 'solver': 'adam'}\n",
      "\n",
      "Testing r2 score: 0.011618792331202776\n",
      "Were parameters on edge (model) : True\n",
      "Score variations around CV search grid (model) : -1069.9306301226834\n",
      "All test scores : [-0.17824977 -0.15570429 -0.20951048 -0.17397944 -0.37797988 -0.1356047\n",
      " -0.38193172 -0.17222868 -0.22084946 -0.05543582 -0.24763634 -0.09989896\n",
      " -0.44801734 -0.11038799 -0.37697809 -0.12408407 -0.21456669 -0.10934313\n",
      " -0.21164423 -0.11545892 -0.42416737 -0.14779455 -0.33866426 -0.12480734\n",
      " -0.1946233  -0.12564056 -0.16906669 -0.1012563  -0.39963463 -0.10546584\n",
      " -0.29964061 -0.1162728  -0.10978614 -0.10136907 -0.10806318 -0.13072103\n",
      " -0.09473674 -0.10655474 -0.09268566 -0.10524376 -0.10557466 -0.12988196\n",
      " -0.11471584 -0.12352408 -0.10919354 -0.10180565 -0.11152161 -0.09562139\n",
      " -0.11093192 -0.12003142 -0.10996501 -0.10535726 -0.10825833 -0.11323567\n",
      " -0.10997888 -0.10846906 -0.26410213 -0.11767013 -0.24922961 -0.11569993\n",
      " -0.59259857 -0.12682715 -0.58580903 -0.13154398 -0.23525552 -0.10827001\n",
      " -0.23765895 -0.11411625 -0.64856066 -0.11875733 -0.4849227  -0.11580848\n",
      " -0.22699215 -0.09253681 -0.22871063 -0.11167128 -0.57864474 -0.14270982\n",
      " -0.61945132 -0.13096119 -0.20809888 -0.09558945 -0.23115758 -0.11989564\n",
      " -0.53257953 -0.13760687 -0.49217083 -0.11776132 -0.10906248 -0.11001951\n",
      " -0.10910488 -0.10365923 -0.09966446 -0.09867696 -0.0984617  -0.10573474\n",
      " -0.11109526 -0.11620963 -0.11032237 -0.11253601 -0.10995735 -0.11589045\n",
      " -0.10918344 -0.10339172 -0.10837437 -0.10949125 -0.10995799 -0.1075458\n",
      " -0.10994473 -0.09824618 -0.10993736 -0.11211846 -0.11034832 -0.10843012\n",
      " -0.10980974 -0.12418614 -0.23811728 -0.1007608  -0.2276507  -0.10523955\n",
      " -0.1082514  -0.09177742 -0.11055229 -0.09850524 -0.22269943 -0.08860449\n",
      " -0.20591495 -0.13652495 -0.10743325 -0.1275767  -0.10978368 -0.09708162\n",
      " -0.20468498 -0.09804677 -0.19334581 -0.08869652 -0.11098342 -0.11547879\n",
      " -0.1106018  -0.10087998 -0.23891837 -0.11919762 -0.20696538 -0.10678417\n",
      " -0.10814722 -0.13394158 -0.10840873 -0.10334076 -0.11825142 -0.09587303\n",
      " -0.10898697 -0.12017192 -0.10784564 -0.11774996 -0.10639811 -0.11320532\n",
      " -0.10841364 -0.0912359  -0.10882211 -0.1277942  -0.11071331 -0.10439138\n",
      " -0.11186584 -0.10067822 -0.09884983 -0.1044154  -0.1119302  -0.11526448]\n",
      "=========================================================\n",
      "  Model: Multi-Layer Perceptron Regressor  Return column: ret_OPT\n",
      "=========================================================\n",
      "Fit time: 2556.72 seconds\n",
      "Optimal parameters:\n",
      "{'activation': 'logistic', 'alpha': 0.0001, 'hidden_layer_sizes': (20,), 'learning_rate': 'constant', 'solver': 'adam'}\n",
      "\n",
      "Testing r2 score: 0.023069852334684726\n",
      "Were parameters on edge (model) : True\n",
      "Score variations around CV search grid (model) : 2191.724795390662\n",
      "All test scores : [-5.82160995e-02 -6.53731277e-03 -5.67992137e-02  3.23357398e-03\n",
      " -1.84647918e-01 -3.08884143e-02 -1.82978592e-01 -1.56033962e-02\n",
      " -5.85653824e-02  2.63357745e-04 -4.08022579e-02 -1.75409265e-03\n",
      " -1.90861074e-01 -1.45127498e-02 -1.47178858e-01 -2.94476077e-02\n",
      " -5.50319806e-02 -2.08815306e-02 -5.77146499e-02 -5.70962370e-03\n",
      " -1.58762267e-01 -1.43490311e-02 -1.50472604e-01 -1.75907749e-02\n",
      " -6.63046973e-02 -7.47399866e-03 -4.96042872e-02 -8.97834741e-04\n",
      " -1.47190065e-01 -5.44191734e-03 -1.49679029e-01  6.16761038e-03\n",
      " -9.62202666e-03 -9.67071880e-03 -8.19061730e-03 -1.09414680e-02\n",
      "  6.28492607e-03  1.23559875e-04  6.12959066e-03 -1.46931350e-03\n",
      " -1.13397597e-02 -1.17689576e-02 -1.25169919e-02 -9.95271011e-03\n",
      " -1.17254782e-02 -1.02428541e-02 -1.18198318e-02 -1.13240345e-02\n",
      " -1.16265560e-02 -1.17134514e-02 -1.14920402e-02 -1.06793955e-02\n",
      " -1.08049422e-02 -1.31107946e-02 -1.14910751e-02 -1.14516269e-02\n",
      " -1.26668502e-01  7.19581373e-04 -6.31602815e-02 -8.14191710e-03\n",
      " -2.71506171e-01 -1.34719870e-02 -2.77884788e-01  1.50660664e-03\n",
      " -7.87823574e-02 -5.66433345e-03 -1.05169711e-01 -4.87858185e-03\n",
      " -3.03759576e-01 -3.38199929e-02 -3.47652849e-01 -6.41202050e-03\n",
      " -8.15502025e-02  8.33893860e-03 -1.10172500e-01  1.47030714e-02\n",
      " -2.78201729e-01 -1.39761516e-02 -3.12782735e-01  3.11162378e-03\n",
      " -8.23992738e-02  4.83413571e-03 -4.84771423e-02 -4.92618610e-03\n",
      " -2.63296048e-01  9.88432114e-03 -2.18744758e-01  1.16522478e-02\n",
      " -1.14800896e-02 -1.15964553e-02 -1.08523064e-02 -1.46966782e-02\n",
      " -2.05414607e-03 -1.62698819e-03  1.10751638e-03 -6.52039643e-03\n",
      " -1.22704320e-02 -1.00705102e-02 -1.13117165e-02 -1.58266644e-02\n",
      " -1.17737123e-02 -1.03287519e-02 -1.14568395e-02 -1.78237877e-02\n",
      " -1.15800194e-02 -1.12529940e-02 -1.14566979e-02 -1.14330603e-02\n",
      " -1.10648272e-02 -1.07811479e-02 -1.14904861e-02 -1.00209674e-02\n",
      " -1.16337484e-02 -2.04027161e-03 -1.19889878e-02 -4.85441585e-03\n",
      " -8.39114889e-02  1.66203914e-02 -7.83542074e-02  8.76599469e-03\n",
      " -1.17821971e-02 -3.57140521e-03 -1.17814433e-02 -1.43682176e-03\n",
      " -8.61573748e-02  1.79585045e-03 -8.19632377e-02  1.54109869e-02\n",
      " -1.18391480e-02 -1.11013467e-02 -1.16972266e-02 -5.11699035e-03\n",
      " -1.00723697e-01  8.44378121e-03 -7.14746863e-02  1.14295738e-02\n",
      " -1.18185189e-02 -2.39088922e-02 -1.13087906e-02 -1.57662193e-02\n",
      " -6.48883715e-02  1.19304586e-02 -7.16835918e-02  1.51447893e-02\n",
      " -1.25649853e-02 -8.08128368e-03 -1.16737923e-02 -9.14742286e-03\n",
      " -4.55612813e-03 -3.46467655e-03 -7.23108915e-03 -9.58982269e-03\n",
      " -1.19671547e-02 -8.98020343e-03 -1.26420473e-02 -1.30151057e-02\n",
      " -1.20657847e-02 -1.23949724e-02 -1.13789243e-02 -1.00454222e-02\n",
      " -1.32633199e-02 -2.06744056e-02 -1.08382177e-02 -7.71674906e-03\n",
      " -1.28185782e-02 -1.41043991e-02 -1.16149125e-02 -9.38292983e-03]\n",
      "=========================================================\n",
      "  Model: Multi-Layer Perceptron Regressor  Return column: ret_INTa\n",
      "=========================================================\n",
      "Fit time: 2355.28 seconds\n",
      "Optimal parameters:\n",
      "{'activation': 'tanh', 'alpha': 0.01, 'hidden_layer_sizes': (10, 30, 10), 'learning_rate': 'constant', 'solver': 'adam'}\n",
      "\n",
      "Testing r2 score: 0.026169242410258198\n",
      "Were parameters on edge (model) : True\n",
      "Score variations around CV search grid (model) : 1202.3227219258724\n",
      "All test scores : [-0.02253308 -0.00922154 -0.01580731 -0.00607951 -0.0656635  -0.0066741\n",
      " -0.05015835 -0.01270752 -0.03062727 -0.00509851 -0.02194751  0.00302079\n",
      " -0.07120718 -0.01025688 -0.05564408 -0.01729678 -0.03680414  0.01013935\n",
      " -0.02544955 -0.00061081 -0.07368832 -0.02001142 -0.05825113 -0.00692079\n",
      " -0.03194844  0.00348988 -0.01469465  0.00424761 -0.05494358  0.0023624\n",
      " -0.04968548 -0.00308329 -0.00137764 -0.00913328 -0.00216846 -0.00879365\n",
      "  0.0086391   0.00359697  0.00783295  0.00474024 -0.00665038 -0.00625536\n",
      " -0.0063004  -0.00503736 -0.00590559 -0.01001109 -0.00513772 -0.00735001\n",
      " -0.00622202 -0.00683874 -0.00630073 -0.00779917 -0.00629355 -0.00801901\n",
      " -0.00626876 -0.00576846 -0.02674085 -0.00630725 -0.03402311 -0.01524845\n",
      " -0.10013006 -0.01070596 -0.06782614 -0.02005921 -0.02663284 -0.00652468\n",
      " -0.02651129 -0.00368498 -0.11135053 -0.01352803 -0.09005675 -0.00889425\n",
      " -0.03243407  0.0049258  -0.02188589  0.00246624 -0.11176831 -0.00828322\n",
      " -0.10385715 -0.00840523 -0.02980307  0.00625255 -0.02394322  0.00717941\n",
      " -0.09388771  0.00195172 -0.08397168  0.00631418 -0.00400848 -0.00631274\n",
      " -0.00428924 -0.00460977  0.0055915   0.00487298  0.00407997  0.0053284\n",
      " -0.00627141 -0.00525974 -0.00594985 -0.00506731 -0.00553473 -0.00690153\n",
      " -0.00606005 -0.00950022 -0.00612689 -0.0055454  -0.00626224 -0.00545431\n",
      " -0.00636775 -0.00742814 -0.00626567 -0.00649913 -0.00666816 -0.00079882\n",
      " -0.00639859 -0.00162133 -0.01786265 -0.00648789 -0.01554927  0.00663544\n",
      " -0.00604686  0.00422237 -0.00638027 -0.00878603 -0.01971709  0.00302394\n",
      " -0.03626453  0.00362075 -0.00586163  0.00079036 -0.00655223  0.00240641\n",
      " -0.03051925  0.00354787 -0.0364908   0.00325388 -0.00549421 -0.00760723\n",
      " -0.00627182 -0.01031067 -0.0223748   0.00175067 -0.0263182   0.00572721\n",
      " -0.00675426 -0.00781719 -0.0062106  -0.00982073 -0.00154355  0.00614632\n",
      "  0.00214878 -0.00411366 -0.00515878 -0.00723819 -0.00614594 -0.00546468\n",
      " -0.00645513 -0.00937153 -0.00635144 -0.00334875 -0.00664622 -0.00528793\n",
      " -0.006377   -0.00718249 -0.00629759 -0.00766548 -0.00651881 -0.009462  ]\n",
      "=========================================================\n",
      "  Model: Multi-Layer Perceptron Regressor  Return column: ret_INTb\n",
      "=========================================================\n",
      "Fit time: 4146.32 seconds\n",
      "Optimal parameters:\n",
      "{'activation': 'relu', 'alpha': 0.1, 'hidden_layer_sizes': (20,), 'learning_rate': 'adaptive', 'solver': 'adam'}\n",
      "\n",
      "Testing r2 score: 0.03701359771420121\n",
      "Were parameters on edge (model) : True\n",
      "Score variations around CV search grid (model) : -342.05011893528916\n",
      "All test scores : [-0.03211166 -0.0291342  -0.03186098 -0.03213664 -0.03622724 -0.02934917\n",
      " -0.03096889 -0.01898435 -0.03622162 -0.02172939 -0.03288389 -0.01784993\n",
      " -0.03371239 -0.02198537 -0.03733112 -0.02182642 -0.03564848 -0.0186134\n",
      " -0.03731069 -0.01774013 -0.03918037 -0.01375488 -0.03579952 -0.01307172\n",
      " -0.04362692 -0.02437703 -0.03166641 -0.03774344 -0.02952167 -0.02015382\n",
      " -0.02831319 -0.02092899 -0.02788633 -0.03594049 -0.0275638  -0.04675712\n",
      " -0.02118905 -0.02489287 -0.021042   -0.01751358 -0.03787038 -0.03870773\n",
      " -0.03798078 -0.03229701 -0.03356433 -0.03959571 -0.03192909 -0.03432145\n",
      " -0.03735076 -0.04119001 -0.03835532 -0.04113859 -0.03638377 -0.03512045\n",
      " -0.03837702 -0.03776929 -0.03328787 -0.05436485 -0.03411539 -0.0489146\n",
      " -0.04244898 -0.05435936 -0.03853656 -0.05115316 -0.0375923  -0.03352724\n",
      " -0.0436406  -0.04440224 -0.03841141 -0.04255542 -0.03930106 -0.0462481\n",
      " -0.03014079 -0.03631184 -0.03403798 -0.03241661 -0.0407575  -0.03855263\n",
      " -0.04358017 -0.03368682 -0.04048196 -0.03125439 -0.0438351  -0.0156556\n",
      " -0.03661325 -0.01242993 -0.03827503 -0.01229835 -0.03192996 -0.0286353\n",
      " -0.02653863 -0.03030492 -0.02129063 -0.01904917 -0.0191047  -0.0160954\n",
      " -0.0387416  -0.03685983 -0.03710652 -0.04267005 -0.03371183 -0.02944424\n",
      " -0.03202402 -0.03094869 -0.03910774 -0.03981078 -0.03840081 -0.03428667\n",
      " -0.03909597 -0.03498738 -0.03839076 -0.03889117 -0.0395639  -0.02946747\n",
      " -0.03829893 -0.03216553 -0.03633641 -0.02337226 -0.03483139 -0.02011481\n",
      " -0.03892747 -0.02226757 -0.03844447 -0.01887357 -0.03801048 -0.01961839\n",
      " -0.03217353 -0.02574033 -0.03604274 -0.02492018 -0.0384363  -0.03840294\n",
      " -0.04101167 -0.02461918 -0.03680004 -0.02308263 -0.03811387 -0.04205749\n",
      " -0.03833342 -0.03036211 -0.0339318  -0.03135909 -0.03552307 -0.02495042\n",
      " -0.03903717 -0.04125742 -0.03825387 -0.03751259 -0.02679756 -0.01973495\n",
      " -0.02813716 -0.02000231 -0.03750804 -0.0475326  -0.03732706 -0.03712173\n",
      " -0.03947579 -0.04003011 -0.03704554 -0.03407195 -0.03962563 -0.03638006\n",
      " -0.03817841 -0.04567622 -0.0390254  -0.03856585 -0.03784084 -0.05106328]\n"
     ]
    }
   ],
   "source": [
    "## trying multi-layer perceptron regression with hyper-parameters\n",
    "# takes a long time \n",
    "\n",
    "cv_parameters = cv_parameters = {'hidden_layer_sizes': [(10,30,10),(20,)],\n",
    "                 'activation': ['tanh', 'relu', 'logistic'],\n",
    "                 'solver': ['sgd', 'adam'],\n",
    "                 'alpha': [0.0001, 0.001, 0.01, 0.1, 1, 10, 100],\n",
    "                 'learning_rate': ['constant','adaptive']\n",
    "                }\n",
    "\n",
    "reg_mlp = fit_regression(model = MLPRegressor(), data_dict = data_dict, cv_parameters = cv_parameters, model_name = 'Multi-Layer Perceptron Regressor')"
   ]
  },
  {
   "cell_type": "markdown",
   "metadata": {
    "id": "-DJhMOLEszcQ"
   },
   "source": [
    "### Random forest regressor"
   ]
  },
  {
   "cell_type": "code",
   "execution_count": 18,
   "metadata": {
    "id": "AGviRi_bszcQ",
    "outputId": "09e7470e-ba04-40c8-bd5b-da0ed97d69cb"
   },
   "outputs": [
    {
     "name": "stdout",
     "output_type": "stream",
     "text": [
      "=========================================================\n",
      "  Model: Random Forest Regressor  Return column: ret_PESS\n",
      "=========================================================\n",
      "Fit time: 540.8 seconds\n",
      "Optimal parameters:\n",
      "{'max_depth': 7, 'min_impurity_decrease': 0.0, 'n_estimators': 150}\n",
      "\n",
      "Testing r2 score: 0.031894462323741934\n",
      "Were parameters on edge (model) : True\n",
      "Score variations around CV search grid (model) : -20.932386692671024\n",
      "All test scores : [-0.10947185 -0.10748304 -0.10770927 -0.10667094 -0.10693457 -0.10860774\n",
      " -0.10982196 -0.1096338  -0.1098544  -0.10993983 -0.11073323 -0.10997505\n",
      " -0.1096871  -0.11001519 -0.10996813 -0.09618395 -0.09740473 -0.09710157\n",
      " -0.09639947 -0.09576287 -0.11070657 -0.10984557 -0.11034219 -0.11008034\n",
      " -0.11001725 -0.11078946 -0.11001129 -0.11000881 -0.11007179 -0.10994911\n",
      " -0.09896352 -0.0928916  -0.09195861 -0.09161273 -0.09223959 -0.1100147\n",
      " -0.11033445 -0.11027951 -0.10998986 -0.10991364 -0.10954669 -0.10962546\n",
      " -0.11021446 -0.10990804 -0.11009287]\n",
      "=========================================================\n",
      "  Model: Random Forest Regressor  Return column: ret_OPT\n",
      "=========================================================\n",
      "Fit time: 517.82 seconds\n",
      "Optimal parameters:\n",
      "{'max_depth': 7, 'min_impurity_decrease': 0.0, 'n_estimators': 200}\n",
      "\n",
      "Testing r2 score: 0.036401174038456774\n",
      "Were parameters on edge (model) : True\n",
      "Score variations around CV search grid (model) : 168.1088879516842\n",
      "All test scores : [ 0.00984776  0.01058002  0.01079839  0.01070686  0.01140385 -0.01135738\n",
      " -0.01141731 -0.01152896 -0.01142196 -0.01140639 -0.01154975 -0.01128077\n",
      " -0.0114863  -0.01140451 -0.01144128  0.01122055  0.01550134  0.01611164\n",
      "  0.01658132  0.01605085 -0.01129737 -0.01130831 -0.01144416 -0.01154396\n",
      " -0.01143857 -0.01137134 -0.01133667 -0.01146823 -0.01141445 -0.01147394\n",
      "  0.00952782  0.01553923  0.01599566  0.01643804  0.01730043 -0.01178313\n",
      " -0.01136595 -0.01149585 -0.01150135 -0.01148083 -0.01148742 -0.01126905\n",
      " -0.01144577 -0.01152653 -0.01150931]\n",
      "=========================================================\n",
      "  Model: Random Forest Regressor  Return column: ret_INTa\n",
      "=========================================================\n",
      "Fit time: 514.02 seconds\n",
      "Optimal parameters:\n",
      "{'max_depth': 5, 'min_impurity_decrease': 0.0, 'n_estimators': 150}\n",
      "\n",
      "Testing r2 score: 0.033093406298457584\n",
      "Were parameters on edge (model) : True\n",
      "Score variations around CV search grid (model) : 146.49762693031906\n",
      "All test scores : [ 0.00971442  0.01189404  0.01230192  0.01184044  0.01253722 -0.00627197\n",
      " -0.00619888 -0.00630672 -0.00622563 -0.0062896  -0.00655044 -0.00630717\n",
      " -0.00629183 -0.00635182 -0.00629992  0.01018745  0.01314183  0.01396791\n",
      "  0.01408769  0.01386826 -0.00621921 -0.00614499 -0.00628671 -0.00629481\n",
      " -0.00627234 -0.0063457  -0.00623937 -0.00620215 -0.00631671 -0.00629754\n",
      "  0.00421629  0.01163454  0.01263452  0.01377773  0.0134882  -0.00637598\n",
      " -0.00635234 -0.0061719  -0.00624382 -0.0062479  -0.00624025 -0.00615917\n",
      " -0.00623691 -0.00626429 -0.00628143]\n",
      "=========================================================\n",
      "  Model: Random Forest Regressor  Return column: ret_INTb\n",
      "=========================================================\n",
      "Fit time: 522.18 seconds\n",
      "Optimal parameters:\n",
      "{'max_depth': 7, 'min_impurity_decrease': 0.0, 'n_estimators': 150}\n",
      "\n",
      "Testing r2 score: 0.042282496961350224\n",
      "Were parameters on edge (model) : True\n",
      "Score variations around CV search grid (model) : -282.7575057670123\n",
      "All test scores : [-0.01623876 -0.01461618 -0.01475239 -0.01480587 -0.01484737 -0.0380575\n",
      " -0.03819764 -0.03815869 -0.03842693 -0.03841671 -0.03815564 -0.03846757\n",
      " -0.03848254 -0.03832656 -0.03821609 -0.01301143 -0.01038616 -0.01027893\n",
      " -0.01018331 -0.01021988 -0.03846654 -0.03871678 -0.03847424 -0.03841847\n",
      " -0.03848392 -0.03836233 -0.03859153 -0.03841281 -0.03817682 -0.03824929\n",
      " -0.01279186 -0.01032482 -0.01113478 -0.01012391 -0.01029283 -0.03869359\n",
      " -0.03837781 -0.03810345 -0.03836687 -0.03831177 -0.03875004 -0.03844783\n",
      " -0.03840788 -0.03837959 -0.03837023]\n"
     ]
    }
   ],
   "source": [
    "## trying random forest regression with hyper-parameters\n",
    "# takes a long time\n",
    "\n",
    "cv_parameters = {'n_estimators': [10, 50, 100, 150, 200], 'max_depth': [3, 5, 7], 'min_impurity_decrease': [0.0, 1.0, 3.0]}\n",
    "                 \n",
    "                 \n",
    "reg_rf = fit_regression(model=RandomForestRegressor(), data_dict = data_dict, cv_parameters = cv_parameters, model_name = 'Random Forest Regressor')"
   ]
  },
  {
   "cell_type": "markdown",
   "metadata": {
    "id": "VKCH34Fi-Tmg"
   },
   "source": [
    "## Running a regression model on the 100 Train/Test Splits"
   ]
  },
  {
   "cell_type": "code",
   "execution_count": null,
   "metadata": {
    "id": "iRSEwWOO-Tmg"
   },
   "outputs": [],
   "source": [
    "def best_params_fit_regression(model_dict, data_dict,\n",
    "                      cv_parameters = {},\n",
    "                      separate = False, \n",
    "                      model_name = None,\n",
    "                      random_state = default_seed,\n",
    "                      output_to_file = True,\n",
    "                      print_to_screen = True):\n",
    "    '''\n",
    "    This function will fit a regression model to data and print various evaluation\n",
    "    measures. It expects the following parameters\n",
    "      - model: an sklearn model object\n",
    "      - data_dict: the dictionary containing both training and testing data;\n",
    "                   returned by the prepare_data function\n",
    "      - separate: a Boolean variable indicating whether we fit models for \n",
    "                  defaulted and non-defaulted loans separately\n",
    "      - cv_parameters: a dictionary of parameters that should be optimized\n",
    "                       over using cross-validation. Specifically, each named\n",
    "                       entry in the dictionary should correspond to a parameter,\n",
    "                       and each element should be a list containing the values\n",
    "                       to optimize over      \n",
    "      - model_name: the name of the model being fit, for printouts\n",
    "      - random_state: the random seed to use\n",
    "      - output_to_file: if the results will be saved to the output file\n",
    "      - print_to_screen: if the results will be printed on screen\n",
    "    \n",
    "    This function returns a dictionary FOR EACH RETURN DEFINITION with the following entries\n",
    "      - model: the best fitted model\n",
    "      - predicted_return: prediction result based on the test set\n",
    "      - predicted_regular_return: prediction result for non-defaulted loans (valid if separate == True)\n",
    "      - predicted_default_return: prediction result for defaulted loans (valid if separate == True)\n",
    "      - r2_scores: the testing r2_score(s) for the best fitted model\n",
    "    '''\n",
    "    \n",
    "    np.random.seed(random_state)\n",
    "    \n",
    "    # --------------------------\n",
    "    #   Step 1 - Load the data\n",
    "    # --------------------------\n",
    "    \n",
    "    col_list = ['ret_PESS', 'ret_OPT', 'ret_INTa', 'ret_INTb']\n",
    "    \n",
    "    X_train = data_dict['X_train']\n",
    "    filter_train = data_dict['train_set']  \n",
    "\n",
    "    X_test = data_dict['X_test']\n",
    "    filter_test = data_dict['test_set']\n",
    "    out = {}\n",
    "    \n",
    "    for ret_col in col_list:\n",
    "        \n",
    "        y_train = data.loc[filter_train, ret_col].to_numpy()\n",
    "        y_test = data.loc[filter_test, ret_col].to_numpy() \n",
    "\n",
    "        # --------------------------\n",
    "        #   Step 2 - Fit the model\n",
    "        # --------------------------\n",
    "\n",
    "        if separate:\n",
    "            outcome_train = data.loc[filter_train, 'outcome']\n",
    "            outcome_test = data.loc[filter_test, 'outcome']\n",
    "\n",
    "            # Train two separate regressors for defaulted and non-defaulted loans\n",
    "            X_train_0 = X_train[outcome_train == False]\n",
    "            y_train_0 = y_train[outcome_train == False]\n",
    "            X_test_0 = X_test[outcome_test == False]\n",
    "            y_test_0 = y_test[outcome_test == False]\n",
    "\n",
    "            X_train_1 = X_train[outcome_train == True]\n",
    "            y_train_1 = y_train[outcome_train == True]\n",
    "            X_test_1 = X_test[outcome_test == True]\n",
    "            y_test_1 = y_test[outcome_test == True]\n",
    "\n",
    "            cv_model_0 = GridSearchCV(model_dict[ret_col]['model'], cv_parameters, scoring='r2')\n",
    "            cv_model_1 = GridSearchCV(model_dict[ret_col]['model'], cv_parameters, scoring='r2')\n",
    "\n",
    "            start_time = time.time()\n",
    "            cv_model_0.fit(X_train_0, y_train_0)\n",
    "            cv_model_1.fit(X_train_1, y_train_1)\n",
    "            end_time = time.time()\n",
    "\n",
    "            best_model_0 = cv_model_0.best_estimator_\n",
    "            best_model_1 = cv_model_1.best_estimator_\n",
    "            \n",
    "            if print_to_screen:\n",
    "\n",
    "                if model_name != None:\n",
    "                    print(\"=========================================================\")\n",
    "                    print(\"  Model: \" + model_name + \"  Return column: \" + ret_col)\n",
    "                    print(\"=========================================================\")\n",
    "\n",
    "                print(\"Fit time: \" + str(round(end_time - start_time, 2)) + \" seconds\")\n",
    "                print(\"Optimal parameters:\")\n",
    "                print(\"model_0:\",cv_model_0.best_params_, \"model_1\",cv_model_1.best_params_)\n",
    "\n",
    "            predicted_regular_return = best_model_0.predict(X_test)\n",
    "            predicted_default_return = best_model_1.predict(X_test)\n",
    "            \n",
    "            if print_to_screen:\n",
    "                print(\"\")\n",
    "                print(\"Testing r2 scores:\")\n",
    "            # Here we use different testing set to report the performance\n",
    "            test_scores = {'model_0':r2_score(y_test_0,best_model_0.predict(X_test_0)),\n",
    "                              'model_1':r2_score(y_test_1,best_model_1.predict(X_test_1))}\n",
    "            if print_to_screen:\n",
    "                print(\"model_0:\", test_scores['model_0'])\n",
    "                print(\"model_1:\", test_scores['model_1'])\n",
    "\n",
    "            cv_objects = {'model_0':cv_model_0, 'model_1':cv_model_1}\n",
    "            out[ret_col] = { 'model_0':best_model_0, 'model_1':best_model_1, 'predicted_regular_return':predicted_regular_return,\n",
    "                      'predicted_default_return':predicted_default_return,'r2_scores':test_scores }\n",
    "\n",
    "        else:\n",
    "            cv_model = GridSearchCV(model_dict[ret_col]['model'], cv_parameters, scoring='r2')\n",
    "\n",
    "            start_time = time.time()\n",
    "            cv_model.fit(X_train, y_train)\n",
    "            end_time = time.time()\n",
    "\n",
    "            best_model = cv_model.best_estimator_\n",
    "            \n",
    "            if print_to_screen:\n",
    "                if model_name != None:\n",
    "                    print(\"=========================================================\")\n",
    "                    print(\"  Model: \" + model_name + \"  Return column: \" + ret_col)\n",
    "                    print(\"=========================================================\")\n",
    "\n",
    "                print(\"Fit time: \" + str(round(end_time - start_time, 2)) + \" seconds\")\n",
    "                print(\"Optimal parameters:\")\n",
    "                print(cv_model.best_params_)\n",
    "\n",
    "            predicted_return = best_model.predict(X_test)\n",
    "            test_scores = {'model':r2_score(y_test,predicted_return)}\n",
    "            if print_to_screen:\n",
    "                print(\"\")\n",
    "                print(\"Testing r2 score:\", test_scores['model'])\n",
    "\n",
    "            cv_objects = {'model':cv_model}\n",
    "            out[ret_col] = {'model':best_model, 'predicted_return':predicted_return, 'r2_scores':r2_score(y_test,predicted_return)}\n",
    "\n",
    "        # Output the results to a file\n",
    "        if output_to_file:\n",
    "            for i in cv_objects:\n",
    "                # Check whether any of the CV parameters are on the edge of\n",
    "                # the search space\n",
    "                opt_params_on_edge = find_opt_params_on_edge(cv_objects[i])\n",
    "                dump_to_output(model_name + \"::\" + ret_col + \"::search_on_edge\", opt_params_on_edge)\n",
    "                if print_to_screen:\n",
    "                    print(\"Were parameters on edge (\" + i + \") : \" + str(opt_params_on_edge))\n",
    "\n",
    "                # Find out how different the scores are for the different values\n",
    "                # tested for by cross-validation. If they're not too different, then\n",
    "                # even if the parameters are off the edge of the search grid, we should\n",
    "                # be ok\n",
    "                score_variation = find_score_variation(cv_objects[i])\n",
    "                dump_to_output(model_name + \"::\" + ret_col + \"::score_variation\", score_variation)\n",
    "                if print_to_screen:\n",
    "                    print(\"Score variations around CV search grid (\" + i + \") : \" + str(score_variation))\n",
    "\n",
    "                # Print out all the scores\n",
    "                dump_to_output(model_name + \"::all_cv_scores\", str(cv_objects[i].cv_results_['mean_test_score']))\n",
    "                if print_to_screen:\n",
    "                    print(\"All test scores : \" + str(cv_objects[i].cv_results_['mean_test_score']) )\n",
    "\n",
    "                # Dump the AUC to file\n",
    "                dump_to_output( model_name + \"::\" + ret_col + \"::r2\", test_scores[i] )\n",
    "\n",
    "    return out"
   ]
  },
  {
   "cell_type": "code",
   "execution_count": null,
   "metadata": {
    "id": "sAbAF5xF-Tmh"
   },
   "outputs": [],
   "source": [
    "def avg_metrics_for_hundred_splits_regression(model_dict, hundred_train_test_splits, metric):\n",
    "    hundred_models_best_params = []\n",
    "\n",
    "    for random_split in hundred_train_test_splits:\n",
    "        hundred_models_best_params.append(best_params_fit_regression(model_dict, \n",
    "                                                                    random_split, \n",
    "                                                                    output_to_file=False, \n",
    "                                                                    print_to_screen=False))\n",
    "        \n",
    "    col_list = ['ret_PESS', 'ret_OPT', 'ret_INTa', 'ret_INTb']\n",
    "\n",
    "    sum_metric = [0,0,0,0]\n",
    "\n",
    "    for model in hundred_models_best_params:\n",
    "        for i in range(len(col_list)):\n",
    "            sum_metric[i] += (model[col_list[i]][metric])\n",
    "\n",
    "    avg_metric = []\n",
    "\n",
    "    for sum in sum_metric:\n",
    "        avg_metric.append(sum/100)\n",
    "\n",
    "    return dict(zip(['avg_ret_PESS', 'avg_ret_OPT', 'avg_ret_INTa', 'avg_ret_INTb'], avg_metric))"
   ]
  },
  {
   "cell_type": "code",
   "execution_count": null,
   "metadata": {
    "id": "nnMFdYPF-Tmh",
    "outputId": "791a47d9-0844-46ec-e55a-1f861b447a0c"
   },
   "outputs": [
    {
     "data": {
      "text/plain": [
       "{'avg_ret_PESS': 0.010640038730206657,\n",
       " 'avg_ret_OPT': 0.029486210826730485,\n",
       " 'avg_ret_INTa': 0.022221882148448332,\n",
       " 'avg_ret_INTb': 0.029609942901593536}"
      ]
     },
     "execution_count": 55,
     "metadata": {},
     "output_type": "execute_result"
    }
   ],
   "source": [
    "avg_metrics_for_hundred_splits_regression(reg_lasso, hundred_train_test_splits, 'r2_scores')"
   ]
  },
  {
   "cell_type": "markdown",
   "metadata": {
    "id": "DUJ336z7szcQ"
   },
   "source": [
    "## Test investment strategies \n",
    "Now we test several investment strategies using the learning models above"
   ]
  },
  {
   "cell_type": "code",
   "execution_count": 30,
   "metadata": {
    "id": "2H0tyVWP-Tmh"
   },
   "outputs": [],
   "source": [
    "def test_investments(data_dict,\n",
    "                        classifier = None,\n",
    "                        regressor = None,\n",
    "                        strategy = 'Random', \n",
    "                        num_loans = 1000,\n",
    "                        random_state = default_seed,\n",
    "                        output_to_file = True):\n",
    "    '''\n",
    "    This function tests a variety of investment methodologies and their returns. \n",
    "    It will run its tests on the loans defined by the test_set element of the data\n",
    "    dictionary.\n",
    "    \n",
    "    It is currently able to test four strategies\n",
    "      - random: invest in a random set of loans\n",
    "      - default-based: score each loan by probability of default, and only invest\n",
    "                 in the \"safest\" loans (i.e., those with the lowest probabilities\n",
    "                 of default)\n",
    "      - return-based: train a single regression model to predict the expected return\n",
    "                    of loans in the past. Then, for loans we could invest in, simply\n",
    "                    rank them by their expected returns and invest in that order.\n",
    "      - default-& return-based: train two regression models to predict the expected return of\n",
    "                   defaulted loans and non-defaulted loans in the training set. Then,\n",
    "                   for each potential loan we could invest in, predict the probability\n",
    "                   the loan will default, its return if it doesn't default and its\n",
    "                   return if it does. Then, calculate a weighted combination of\n",
    "                   the latter using the former to find a predicted return. Rank the\n",
    "                   loans by this expected return, and invest in that order\n",
    "    \n",
    "    It expects the following parameters\n",
    "      - data_dict: the dictionary containing both training and testing data;\n",
    "                   returned by the prepare_data function\n",
    "      - classifier: a fitted model object which is returned by the fit_classification function.\n",
    "      - regressor: a fitted model object which is returned by the fit_regression function.\n",
    "      - strategy: the name of the strategy; one of the three listed above\n",
    "      - num_loans: the number of loans to be included in the test portfolio\n",
    "      - num_samples: the number of random samples used to compute average return ()   \n",
    "      - random_state: the random seed to use when selecting a subset of rows\n",
    "      - output_to_file: if the results will be saved to the output file\n",
    "      \n",
    "    The function returns a dictionary FOR EACH RETURN DEFINITION with the following entries\n",
    "      - strategy: the name of the strategy\n",
    "      - average return: the return of the strategy based on the testing set\n",
    "      - test data: the updated Dataframe of testing data. Useful in the optimization section\n",
    "    '''\n",
    "    \n",
    "    np.random.seed(random_state)\n",
    "    \n",
    "    # Retrieve the rows that were used to train and test  the\n",
    "    # classification model\n",
    "    train_set = data_dict['train_set']\n",
    "    test_set = data_dict['test_set']\n",
    "    \n",
    "    col_list = ['ret_PESS', 'ret_OPT', 'ret_INTa', 'ret_INTb']\n",
    "    \n",
    "    # Create a dataframe for testing, including the score\n",
    "    data_test = data.loc[test_set,:]\n",
    "    out = {}\n",
    "    \n",
    "    for ret_col in col_list:    \n",
    "    \n",
    "        if strategy == 'Random':\n",
    "            # Randomize the order of the rows in the datframe\n",
    "            data_test = data_test.sample(frac = 1).reset_index(drop = True)\n",
    "\n",
    "            ## Select num_loans to invest in\n",
    "            pf_test = data_test.iloc[:num_loans]\n",
    "\n",
    "            ## Find the average return for these loans\n",
    "            ret_test = np.dot(pf_test[ret_col], pf_test['funded_amnt']) / pf_test['funded_amnt'].sum()\n",
    "\n",
    "            # Return\n",
    "            out[ret_col] = {'strategy':strategy, 'average return':ret_test}\n",
    "\n",
    "            # Dump the strategy performance to file\n",
    "            if output_to_file:\n",
    "                dump_to_output(strategy + \",\" + ret_col + \"::average return\", ret_test )\n",
    "\n",
    "            continue\n",
    "            \n",
    "        if strategy == 'Best':\n",
    "            # Sort the test data by the best possible return in hindsight\n",
    "            data_test = data_test.sort_values(by=ret_col, ascending=False).reset_index(drop = True)\n",
    "\n",
    "            ## Select num_loans to invest in\n",
    "            pf_test = data_test.iloc[:num_loans]\n",
    "\n",
    "            ## Find the average return for these loans\n",
    "            ret_test = np.dot(pf_test[ret_col], pf_test['funded_amnt']) / pf_test['funded_amnt'].sum()\n",
    "\n",
    "            # Return\n",
    "            out[ret_col] = {'strategy':strategy, 'average return':ret_test}\n",
    "\n",
    "            # Dump the strategy performance to file\n",
    "            if output_to_file:\n",
    "                dump_to_output(strategy + \",\" + ret_col + \"::average return\", ret_test )\n",
    "\n",
    "            continue\n",
    "\n",
    "        \n",
    "        elif strategy == 'Return-based':\n",
    "            \n",
    "            colname = 'predicted_return_' + ret_col \n",
    "\n",
    "            data_test[colname] = regressor[ret_col]['predicted_return']\n",
    "\n",
    "            # Sort the loans by predicted return\n",
    "            data_test = data_test.sort_values(by=colname, ascending = False).reset_index(drop = True)\n",
    "\n",
    "            ## Pick num_loans loans\n",
    "            pf_test = data_test.iloc[:num_loans]\n",
    "\n",
    "            ## Find their return\n",
    "            ret_test = np.dot(pf_test[ret_col], pf_test['funded_amnt']) / pf_test['funded_amnt'].sum()\n",
    "\n",
    "            # Return\n",
    "            out[ret_col] = {'strategy':strategy, 'average return':ret_test, 'test data':data_test}\n",
    "\n",
    "            # Dump the strategy performance to file\n",
    "            if output_to_file:\n",
    "                dump_to_output(strategy + \",\" + ret_col + \"::average return\", ret_test )\n",
    "\n",
    "            continue\n",
    "            \n",
    "        # Get the predicted scores, if the strategy is not Random or just Regression\n",
    "        try:\n",
    "            y_pred_score = classifier['y_pred_probs']\n",
    "        except:\n",
    "            y_pred_score = classifier['y_pred_score']\n",
    "\n",
    "        data_test['score'] = y_pred_score\n",
    "\n",
    "\n",
    "        if strategy == 'Default-based':\n",
    "            # Sort the test data by the score\n",
    "            data_test = data_test.sort_values(by='score').reset_index(drop = True)\n",
    "\n",
    "            ## Select num_loans to invest in\n",
    "            pf_test = data_test.iloc[:num_loans]\n",
    "\n",
    "            ## Find the average return for these loans\n",
    "            ret_test = np.dot(pf_test[ret_col], pf_test['funded_amnt']) / pf_test['funded_amnt'].sum()\n",
    "\n",
    "            # Return\n",
    "            out[ret_col] = {'strategy':strategy, 'average return':ret_test}\n",
    "\n",
    "            # Dump the strategy performance to file\n",
    "            if output_to_file:\n",
    "                dump_to_output(strategy + \",\" + ret_col + \"::average return\", ret_test )\n",
    "\n",
    "            continue\n",
    "            \n",
    "      \n",
    "\n",
    "        elif strategy == 'Default-return-based':\n",
    "\n",
    "            # Load the predicted returns\n",
    "            data_test['predicted_regular_return'] = regressor[ret_col]['predicted_regular_return']\n",
    "            data_test['predicted_default_return'] = regressor[ret_col]['predicted_default_return']\n",
    "\n",
    "            # Compute expectation\n",
    "            colname = 'predicted_return_' + ret_col \n",
    "            \n",
    "            data_test[colname] = ( (1-data_test.score)*data_test.predicted_regular_return + \n",
    "                                             data_test.score*data_test.predicted_default_return )\n",
    "\n",
    "            # Sort the loans by predicted return\n",
    "            data_test = data_test.sort_values(by=colname, ascending = False).reset_index(drop = True)\n",
    "\n",
    "            ## Pick num_loans loans\n",
    "            pf_test = data_test[:num_loans]\n",
    "\n",
    "            ## Find their return\n",
    "            ret_test = np.dot(pf_test[ret_col], pf_test['funded_amnt']) / pf_test['funded_amnt'].sum()\n",
    "\n",
    "            # Return\n",
    "            out[ret_col] = {'strategy':strategy, 'average return':ret_test, 'test data':data_test}\n",
    "\n",
    "            # Dump the strategy performance to file\n",
    "            if output_to_file:\n",
    "                dump_to_output(strategy + \",\" + ret_col + \"::average return\", ret_test )\n",
    "\n",
    "            continue\n",
    "\n",
    "        else:\n",
    "            return 'Not a valid strategy'\n",
    "        \n",
    "    return out"
   ]
  },
  {
   "cell_type": "code",
   "execution_count": 31,
   "metadata": {
    "id": "WbNZMkhw8Kxq"
   },
   "outputs": [],
   "source": [
    "def avg_returns_for_hundred_splits(hundred_train_test_splits,\n",
    "                        classifier = None,\n",
    "                        regressor = None,\n",
    "                        strategy = 'Random', \n",
    "                        num_loans = 1000,\n",
    "                        random_state = default_seed,\n",
    "                        output_to_file = True):\n",
    "    \n",
    "    average_return_for_one_split = []\n",
    "\n",
    "    for random_split in hundred_train_test_splits:\n",
    "        average_return_for_one_split.append(test_investments(data_dict=random_split,\n",
    "                        classifier = classifier,\n",
    "                        regressor = regressor,\n",
    "                        strategy = strategy, \n",
    "                        num_loans = num_loans,\n",
    "                        random_state = random_state,\n",
    "                        output_to_file = output_to_file))\n",
    "        \n",
    "    col_list = ['ret_PESS', 'ret_OPT', 'ret_INTa', 'ret_INTb']\n",
    "\n",
    "    sum_metric = [0,0,0,0]\n",
    "\n",
    "    for avg_return in average_return_for_one_split:\n",
    "        for i in range(len(col_list)):\n",
    "            sum_metric[i] += (avg_return[col_list[i]]['average return'])\n",
    "\n",
    "    avg_metric = []\n",
    "\n",
    "    for sum in sum_metric:\n",
    "        avg_metric.append(sum/100)\n",
    "\n",
    "    return dict(zip(['ret_PESS', 'ret_OPT', 'ret_INTa', 'ret_INTb'], avg_metric))"
   ]
  },
  {
   "cell_type": "code",
   "execution_count": 32,
   "metadata": {
    "id": "ocWQiUv3szcQ",
    "outputId": "47e82e90-cbd9-484b-d252-adb217b6a682"
   },
   "outputs": [
    {
     "name": "stdout",
     "output_type": "stream",
     "text": [
      "strategy: Random\n",
      "ret_PESS: 0.004481863525567513\n",
      "ret_OPT: 0.05675962800977735\n",
      "ret_INTa: 0.43798568971741547\n",
      "ret_INTb: 1.298731371235703\n"
     ]
    }
   ],
   "source": [
    "## Test investment strategies using the best performing regressor\n",
    "\n",
    "col_list = ['ret_PESS', 'ret_OPT', 'ret_INTa', 'ret_INTb']\n",
    "test_strategy = 'Random'\n",
    "\n",
    "print('strategy:',test_strategy)   \n",
    "strat_rand = avg_returns_for_hundred_splits(hundred_train_test_splits, \n",
    "                                            strategy = test_strategy,\n",
    "                                            num_loans = 1000,\n",
    "                                            random_state = default_seed,\n",
    "                                            output_to_file = False)\n",
    "\n",
    "for ret_col in col_list:\n",
    "    print(ret_col + ': ' + str(strat_rand[ret_col]))"
   ]
  },
  {
   "cell_type": "code",
   "execution_count": 33,
   "metadata": {
    "id": "TF6mS2FnszcQ",
    "outputId": "9508b647-a06b-4ac3-dcd6-6b0512765a83"
   },
   "outputs": [
    {
     "name": "stdout",
     "output_type": "stream",
     "text": [
      "strategy: Default-based\n",
      "ret_PESS: 0.002962581117136989\n",
      "ret_OPT: 0.05692440731943666\n",
      "ret_INTa: 0.4364921645154196\n",
      "ret_INTb: 1.3048948535896918\n"
     ]
    }
   ],
   "source": [
    "test_strategy = 'Default-based'\n",
    "\n",
    "print('strategy:',test_strategy)\n",
    "strat_def = avg_returns_for_hundred_splits(hundred_train_test_splits, \n",
    "                                           strategy = test_strategy, \n",
    "                                           classifier = your_model, \n",
    "                                           num_loans = 1000, \n",
    "                                           output_to_file = False)\n",
    "\n",
    "for ret_col in col_list:\n",
    "    print(ret_col + ': ' + str(strat_def[ret_col]))"
   ]
  },
  {
   "cell_type": "code",
   "execution_count": 34,
   "metadata": {
    "id": "Dak7mbJhszcQ",
    "outputId": "2f27066d-d95a-4077-ee7b-71199786350a"
   },
   "outputs": [
    {
     "name": "stdout",
     "output_type": "stream",
     "text": [
      "strategy: Return-based\n",
      "ret_PESS: 0.018773859764228358\n",
      "ret_OPT: 0.056912631578948034\n",
      "ret_INTa: 0.4377107940070313\n",
      "ret_INTb: 1.2925903478397163\n"
     ]
    }
   ],
   "source": [
    "test_strategy = 'Return-based'\n",
    "\n",
    "print('strategy:',test_strategy)\n",
    "strat_ret = avg_returns_for_hundred_splits(hundred_train_test_splits, \n",
    "                                           strategy = test_strategy, \n",
    "                                           regressor = reg_rf,\n",
    "                                           num_loans = 1000, \n",
    "                                           output_to_file = False)\n",
    "\n",
    "for ret_col in col_list:\n",
    "    print(ret_col + ': ' + str(strat_ret[ret_col]))"
   ]
  },
  {
   "cell_type": "code",
   "execution_count": 35,
   "metadata": {
    "id": "B4wDtkn4szcR",
    "outputId": "cbe54a29-ed7c-48f3-982a-5afd996c19db"
   },
   "outputs": [
    {
     "name": "stdout",
     "output_type": "stream",
     "text": [
      "strategy: Default-return-based\n",
      "ret_PESS: 0.029130493945367677\n",
      "ret_OPT: 0.05592992946779278\n",
      "ret_INTa: 0.4387829196720559\n",
      "ret_INTb: 1.2932841270566036\n"
     ]
    }
   ],
   "source": [
    "test_strategy = 'Default-return-based'\n",
    "\n",
    "## For the Default-return-based strategy we need to fit a new regressor with separate = True\n",
    "cv_parameters = {'n_estimators': [10, 100], \n",
    "                 'max_depth': [None, 3, 5], \n",
    "                 'min_impurity_decrease': [0.0, 1.0, 3.0]}\n",
    "\n",
    "reg_separate = fit_regression(separate = True, \n",
    "                              model=RandomForestRegressor(), \n",
    "                              data_dict = data_dict, \n",
    "                              cv_parameters = cv_parameters, \n",
    "                              model_name = 'Random Forest Regressor, Separate', \n",
    "                              output_to_file = False,\n",
    "                              print_to_screen = False)\n",
    "\n",
    "print('strategy:',test_strategy)\n",
    "strat_defret = avg_returns_for_hundred_splits(hundred_train_test_splits, \n",
    "                                              strategy = test_strategy, \n",
    "                                              regressor = reg_separate, \n",
    "                                              classifier = your_model,\n",
    "                                              num_loans = 1000, \n",
    "                                              output_to_file = False)\n",
    "\n",
    "col_list = ['ret_PESS', 'ret_OPT', 'ret_INTa', 'ret_INTb']\n",
    "for ret_col in col_list:\n",
    "    print(ret_col + ': ' + str(strat_defret[ret_col]))"
   ]
  },
  {
   "cell_type": "code",
   "execution_count": 36,
   "metadata": {},
   "outputs": [
    {
     "name": "stdout",
     "output_type": "stream",
     "text": [
      "strategy: Best\n",
      "ret_PESS: 0.09924090075017031\n",
      "ret_OPT: 0.23047947276628133\n",
      "ret_INTa: 0.6131312179013871\n",
      "ret_INTb: 1.8566677801674383\n"
     ]
    }
   ],
   "source": [
    "col_list = ['ret_PESS', 'ret_OPT', 'ret_INTa', 'ret_INTb']\n",
    "test_strategy = 'Best'\n",
    "\n",
    "print('strategy:',test_strategy)   \n",
    "strat_best = avg_returns_for_hundred_splits(hundred_train_test_splits, \n",
    "                                            strategy = test_strategy,\n",
    "                                            num_loans = 1000,\n",
    "                                            random_state = default_seed,\n",
    "                                            output_to_file = False)\n",
    "\n",
    "for ret_col in col_list:\n",
    "    print(ret_col + ': ' + str(strat_best[ret_col]))"
   ]
  },
  {
   "cell_type": "markdown",
   "metadata": {
    "id": "YSpIbvGSszcR"
   },
   "source": [
    "## Sensitivity test of portfolio size"
   ]
  },
  {
   "cell_type": "code",
   "execution_count": null,
   "metadata": {
    "id": "yvulx7tuszcR",
    "outputId": "2ac891d6-bb77-4982-8c33-358d75b3dae6"
   },
   "outputs": [
    {
     "data": {
      "image/png": "[encoded data removed]",
      "text/plain": [
       "<Figure size 432x288 with 1 Axes>"
      ]
     },
     "metadata": {
      "needs_background": "light"
     },
     "output_type": "display_data"
    }
   ],
   "source": [
    "## Test the best-performing data-driven strategy on different portfolio sizes\n",
    "\n",
    "test_strategy = 'Default-return-based'\n",
    "result_sensitivity = []\n",
    "\n",
    "## Vary the portfolio size from 1,000 to 10,000\n",
    "for num_loans in list(range(1000,10000,1000)):\n",
    "\n",
    "    reg_0 = avg_returns_for_hundred_splits(hundred_train_test_splits, \n",
    "                                              strategy = test_strategy, \n",
    "                                              regressor = reg_separate, \n",
    "                                              classifier = your_model,\n",
    "                                              num_loans = num_loans, \n",
    "                                              output_to_file = False)\n",
    "    result_sensitivity.append(reg_0['ret_PESS'])\n",
    "    \n",
    "result_sensitivity = np.array(result_sensitivity) * 100\n",
    "sns.pointplot(np.array(list(range(1000,10000,1000))),result_sensitivity)\n",
    "sns.despine()\n",
    "plt.ylabel('Investment Return (%)',size = 14)\n",
    "plt.xlabel('Portfolio Size',size = 14)\n",
    "plt.show()"
   ]
  }
 ],
 "metadata": {
  "colab": {
   "collapsed_sections": [
    "4LV8bNYDszcO",
    "JB7UpsLxszcO",
    "4l8oV3fUszcO",
    "KRoBdpqoszcO",
    "zMrTeZW8szcO",
    "5GNjtDxYszcP"
   ],
   "name": "Case_Study, Phase 3-2022-04-27.ipynb",
   "provenance": []
  },
  "kernelspec": {
   "display_name": "Python 3",
   "language": "python",
   "name": "python3"
  },
  "language_info": {
   "codemirror_mode": {
    "name": "ipython",
    "version": 3
   },
   "file_extension": ".py",
   "mimetype": "text/x-python",
   "name": "python",
   "nbconvert_exporter": "python",
   "pygments_lexer": "ipython3",
   "version": "3.8.8"
  }
 },
 "nbformat": 4,
 "nbformat_minor": 1
}
